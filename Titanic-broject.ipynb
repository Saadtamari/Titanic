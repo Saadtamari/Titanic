{
 "cells": [
  {
   "cell_type": "code",
   "execution_count": 1,
   "id": "c9f1649a",
   "metadata": {
    "_cell_guid": "b1076dfc-b9ad-4769-8c92-a6c4dae69d19",
    "_uuid": "8f2839f25d086af736a60e9eeb907d3b93b6e0e5",
    "execution": {
     "iopub.execute_input": "2023-07-08T21:21:44.494977Z",
     "iopub.status.busy": "2023-07-08T21:21:44.494576Z",
     "iopub.status.idle": "2023-07-08T21:21:44.509517Z",
     "shell.execute_reply": "2023-07-08T21:21:44.508635Z"
    },
    "papermill": {
     "duration": 0.035884,
     "end_time": "2023-07-08T21:21:44.511946",
     "exception": false,
     "start_time": "2023-07-08T21:21:44.476062",
     "status": "completed"
    },
    "tags": []
   },
   "outputs": [
    {
     "name": "stdout",
     "output_type": "stream",
     "text": [
      "/kaggle/input/titanic/train.csv\n",
      "/kaggle/input/titanic/test.csv\n",
      "/kaggle/input/titanic/gender_submission.csv\n"
     ]
    }
   ],
   "source": [
    "# This Python 3 environment comes with many helpful analytics libraries installed\n",
    "# It is defined by the kaggle/python Docker image: https://github.com/kaggle/docker-python\n",
    "# For example, here's several helpful packages to load\n",
    "\n",
    "import numpy as np # linear algebra\n",
    "import pandas as pd # data processing, CSV file I/O (e.g. pd.read_csv)\n",
    "\n",
    "# Input data files are available in the read-only \"../input/\" directory\n",
    "# For example, running this (by clicking run or pressing Shift+Enter) will list all files under the input directory\n",
    "\n",
    "import os\n",
    "for dirname, _, filenames in os.walk('/kaggle/input'):\n",
    "    for filename in filenames:\n",
    "        print(os.path.join(dirname, filename))\n",
    "\n",
    "# You can write up to 20GB to the current directory (/kaggle/working/) that gets preserved as output when you create a version using \"Save & Run All\" \n",
    "# You can also write temporary files to /kaggle/temp/, but they won't be saved outside of the current session"
   ]
  },
  {
   "cell_type": "markdown",
   "id": "ddcaac96",
   "metadata": {
    "papermill": {
     "duration": 0.012416,
     "end_time": "2023-07-08T21:21:44.537467",
     "exception": false,
     "start_time": "2023-07-08T21:21:44.525051",
     "status": "completed"
    },
    "tags": []
   },
   "source": [
    "# Read data"
   ]
  },
  {
   "cell_type": "code",
   "execution_count": 2,
   "id": "20c3a78f",
   "metadata": {
    "execution": {
     "iopub.execute_input": "2023-07-08T21:21:44.565586Z",
     "iopub.status.busy": "2023-07-08T21:21:44.564550Z",
     "iopub.status.idle": "2023-07-08T21:21:44.603360Z",
     "shell.execute_reply": "2023-07-08T21:21:44.602214Z"
    },
    "papermill": {
     "duration": 0.056039,
     "end_time": "2023-07-08T21:21:44.606300",
     "exception": false,
     "start_time": "2023-07-08T21:21:44.550261",
     "status": "completed"
    },
    "tags": []
   },
   "outputs": [],
   "source": [
    "df_train = df_Tr = pd.read_csv(\"/kaggle/input/titanic/train.csv\")\n",
    "df_test = df_Te= pd.read_csv(\"/kaggle/input/titanic/test.csv\")\n"
   ]
  },
  {
   "cell_type": "markdown",
   "id": "8b89814a",
   "metadata": {
    "papermill": {
     "duration": 0.012673,
     "end_time": "2023-07-08T21:21:44.632687",
     "exception": false,
     "start_time": "2023-07-08T21:21:44.620014",
     "status": "completed"
    },
    "tags": []
   },
   "source": [
    "# Explore data"
   ]
  },
  {
   "cell_type": "code",
   "execution_count": 3,
   "id": "a011dc81",
   "metadata": {
    "execution": {
     "iopub.execute_input": "2023-07-08T21:21:44.660498Z",
     "iopub.status.busy": "2023-07-08T21:21:44.660077Z",
     "iopub.status.idle": "2023-07-08T21:21:44.698698Z",
     "shell.execute_reply": "2023-07-08T21:21:44.697328Z"
    },
    "papermill": {
     "duration": 0.055779,
     "end_time": "2023-07-08T21:21:44.701462",
     "exception": false,
     "start_time": "2023-07-08T21:21:44.645683",
     "status": "completed"
    },
    "tags": []
   },
   "outputs": [
    {
     "data": {
      "text/html": [
       "<div>\n",
       "<style scoped>\n",
       "    .dataframe tbody tr th:only-of-type {\n",
       "        vertical-align: middle;\n",
       "    }\n",
       "\n",
       "    .dataframe tbody tr th {\n",
       "        vertical-align: top;\n",
       "    }\n",
       "\n",
       "    .dataframe thead th {\n",
       "        text-align: right;\n",
       "    }\n",
       "</style>\n",
       "<table border=\"1\" class=\"dataframe\">\n",
       "  <thead>\n",
       "    <tr style=\"text-align: right;\">\n",
       "      <th></th>\n",
       "      <th>PassengerId</th>\n",
       "      <th>Survived</th>\n",
       "      <th>Pclass</th>\n",
       "      <th>Name</th>\n",
       "      <th>Sex</th>\n",
       "      <th>Age</th>\n",
       "      <th>SibSp</th>\n",
       "      <th>Parch</th>\n",
       "      <th>Ticket</th>\n",
       "      <th>Fare</th>\n",
       "      <th>Cabin</th>\n",
       "      <th>Embarked</th>\n",
       "    </tr>\n",
       "  </thead>\n",
       "  <tbody>\n",
       "    <tr>\n",
       "      <th>0</th>\n",
       "      <td>1</td>\n",
       "      <td>0</td>\n",
       "      <td>3</td>\n",
       "      <td>Braund, Mr. Owen Harris</td>\n",
       "      <td>male</td>\n",
       "      <td>22.0</td>\n",
       "      <td>1</td>\n",
       "      <td>0</td>\n",
       "      <td>A/5 21171</td>\n",
       "      <td>7.2500</td>\n",
       "      <td>NaN</td>\n",
       "      <td>S</td>\n",
       "    </tr>\n",
       "    <tr>\n",
       "      <th>1</th>\n",
       "      <td>2</td>\n",
       "      <td>1</td>\n",
       "      <td>1</td>\n",
       "      <td>Cumings, Mrs. John Bradley (Florence Briggs Th...</td>\n",
       "      <td>female</td>\n",
       "      <td>38.0</td>\n",
       "      <td>1</td>\n",
       "      <td>0</td>\n",
       "      <td>PC 17599</td>\n",
       "      <td>71.2833</td>\n",
       "      <td>C85</td>\n",
       "      <td>C</td>\n",
       "    </tr>\n",
       "    <tr>\n",
       "      <th>2</th>\n",
       "      <td>3</td>\n",
       "      <td>1</td>\n",
       "      <td>3</td>\n",
       "      <td>Heikkinen, Miss. Laina</td>\n",
       "      <td>female</td>\n",
       "      <td>26.0</td>\n",
       "      <td>0</td>\n",
       "      <td>0</td>\n",
       "      <td>STON/O2. 3101282</td>\n",
       "      <td>7.9250</td>\n",
       "      <td>NaN</td>\n",
       "      <td>S</td>\n",
       "    </tr>\n",
       "    <tr>\n",
       "      <th>3</th>\n",
       "      <td>4</td>\n",
       "      <td>1</td>\n",
       "      <td>1</td>\n",
       "      <td>Futrelle, Mrs. Jacques Heath (Lily May Peel)</td>\n",
       "      <td>female</td>\n",
       "      <td>35.0</td>\n",
       "      <td>1</td>\n",
       "      <td>0</td>\n",
       "      <td>113803</td>\n",
       "      <td>53.1000</td>\n",
       "      <td>C123</td>\n",
       "      <td>S</td>\n",
       "    </tr>\n",
       "    <tr>\n",
       "      <th>4</th>\n",
       "      <td>5</td>\n",
       "      <td>0</td>\n",
       "      <td>3</td>\n",
       "      <td>Allen, Mr. William Henry</td>\n",
       "      <td>male</td>\n",
       "      <td>35.0</td>\n",
       "      <td>0</td>\n",
       "      <td>0</td>\n",
       "      <td>373450</td>\n",
       "      <td>8.0500</td>\n",
       "      <td>NaN</td>\n",
       "      <td>S</td>\n",
       "    </tr>\n",
       "  </tbody>\n",
       "</table>\n",
       "</div>"
      ],
      "text/plain": [
       "   PassengerId  Survived  Pclass  \\\n",
       "0            1         0       3   \n",
       "1            2         1       1   \n",
       "2            3         1       3   \n",
       "3            4         1       1   \n",
       "4            5         0       3   \n",
       "\n",
       "                                                Name     Sex   Age  SibSp  \\\n",
       "0                            Braund, Mr. Owen Harris    male  22.0      1   \n",
       "1  Cumings, Mrs. John Bradley (Florence Briggs Th...  female  38.0      1   \n",
       "2                             Heikkinen, Miss. Laina  female  26.0      0   \n",
       "3       Futrelle, Mrs. Jacques Heath (Lily May Peel)  female  35.0      1   \n",
       "4                           Allen, Mr. William Henry    male  35.0      0   \n",
       "\n",
       "   Parch            Ticket     Fare Cabin Embarked  \n",
       "0      0         A/5 21171   7.2500   NaN        S  \n",
       "1      0          PC 17599  71.2833   C85        C  \n",
       "2      0  STON/O2. 3101282   7.9250   NaN        S  \n",
       "3      0            113803  53.1000  C123        S  \n",
       "4      0            373450   8.0500   NaN        S  "
      ]
     },
     "execution_count": 3,
     "metadata": {},
     "output_type": "execute_result"
    }
   ],
   "source": [
    "df_train.head()"
   ]
  },
  {
   "cell_type": "code",
   "execution_count": 4,
   "id": "fcde4334",
   "metadata": {
    "execution": {
     "iopub.execute_input": "2023-07-08T21:21:44.729794Z",
     "iopub.status.busy": "2023-07-08T21:21:44.729402Z",
     "iopub.status.idle": "2023-07-08T21:21:44.761156Z",
     "shell.execute_reply": "2023-07-08T21:21:44.759521Z"
    },
    "papermill": {
     "duration": 0.048871,
     "end_time": "2023-07-08T21:21:44.763828",
     "exception": false,
     "start_time": "2023-07-08T21:21:44.714957",
     "status": "completed"
    },
    "tags": []
   },
   "outputs": [
    {
     "name": "stdout",
     "output_type": "stream",
     "text": [
      "<class 'pandas.core.frame.DataFrame'>\n",
      "RangeIndex: 891 entries, 0 to 890\n",
      "Data columns (total 12 columns):\n",
      " #   Column       Non-Null Count  Dtype  \n",
      "---  ------       --------------  -----  \n",
      " 0   PassengerId  891 non-null    int64  \n",
      " 1   Survived     891 non-null    int64  \n",
      " 2   Pclass       891 non-null    int64  \n",
      " 3   Name         891 non-null    object \n",
      " 4   Sex          891 non-null    object \n",
      " 5   Age          714 non-null    float64\n",
      " 6   SibSp        891 non-null    int64  \n",
      " 7   Parch        891 non-null    int64  \n",
      " 8   Ticket       891 non-null    object \n",
      " 9   Fare         891 non-null    float64\n",
      " 10  Cabin        204 non-null    object \n",
      " 11  Embarked     889 non-null    object \n",
      "dtypes: float64(2), int64(5), object(5)\n",
      "memory usage: 83.7+ KB\n"
     ]
    }
   ],
   "source": [
    "df_train.info()"
   ]
  },
  {
   "cell_type": "code",
   "execution_count": 5,
   "id": "9f2f43ee",
   "metadata": {
    "execution": {
     "iopub.execute_input": "2023-07-08T21:21:44.793741Z",
     "iopub.status.busy": "2023-07-08T21:21:44.792530Z",
     "iopub.status.idle": "2023-07-08T21:21:44.831466Z",
     "shell.execute_reply": "2023-07-08T21:21:44.830235Z"
    },
    "papermill": {
     "duration": 0.05678,
     "end_time": "2023-07-08T21:21:44.834118",
     "exception": false,
     "start_time": "2023-07-08T21:21:44.777338",
     "status": "completed"
    },
    "tags": []
   },
   "outputs": [
    {
     "data": {
      "text/html": [
       "<div>\n",
       "<style scoped>\n",
       "    .dataframe tbody tr th:only-of-type {\n",
       "        vertical-align: middle;\n",
       "    }\n",
       "\n",
       "    .dataframe tbody tr th {\n",
       "        vertical-align: top;\n",
       "    }\n",
       "\n",
       "    .dataframe thead th {\n",
       "        text-align: right;\n",
       "    }\n",
       "</style>\n",
       "<table border=\"1\" class=\"dataframe\">\n",
       "  <thead>\n",
       "    <tr style=\"text-align: right;\">\n",
       "      <th></th>\n",
       "      <th>PassengerId</th>\n",
       "      <th>Survived</th>\n",
       "      <th>Pclass</th>\n",
       "      <th>Age</th>\n",
       "      <th>SibSp</th>\n",
       "      <th>Parch</th>\n",
       "      <th>Fare</th>\n",
       "    </tr>\n",
       "  </thead>\n",
       "  <tbody>\n",
       "    <tr>\n",
       "      <th>count</th>\n",
       "      <td>891.000000</td>\n",
       "      <td>891.000000</td>\n",
       "      <td>891.000000</td>\n",
       "      <td>714.000000</td>\n",
       "      <td>891.000000</td>\n",
       "      <td>891.000000</td>\n",
       "      <td>891.000000</td>\n",
       "    </tr>\n",
       "    <tr>\n",
       "      <th>mean</th>\n",
       "      <td>446.000000</td>\n",
       "      <td>0.383838</td>\n",
       "      <td>2.308642</td>\n",
       "      <td>29.699118</td>\n",
       "      <td>0.523008</td>\n",
       "      <td>0.381594</td>\n",
       "      <td>32.204208</td>\n",
       "    </tr>\n",
       "    <tr>\n",
       "      <th>std</th>\n",
       "      <td>257.353842</td>\n",
       "      <td>0.486592</td>\n",
       "      <td>0.836071</td>\n",
       "      <td>14.526497</td>\n",
       "      <td>1.102743</td>\n",
       "      <td>0.806057</td>\n",
       "      <td>49.693429</td>\n",
       "    </tr>\n",
       "    <tr>\n",
       "      <th>min</th>\n",
       "      <td>1.000000</td>\n",
       "      <td>0.000000</td>\n",
       "      <td>1.000000</td>\n",
       "      <td>0.420000</td>\n",
       "      <td>0.000000</td>\n",
       "      <td>0.000000</td>\n",
       "      <td>0.000000</td>\n",
       "    </tr>\n",
       "    <tr>\n",
       "      <th>25%</th>\n",
       "      <td>223.500000</td>\n",
       "      <td>0.000000</td>\n",
       "      <td>2.000000</td>\n",
       "      <td>20.125000</td>\n",
       "      <td>0.000000</td>\n",
       "      <td>0.000000</td>\n",
       "      <td>7.910400</td>\n",
       "    </tr>\n",
       "    <tr>\n",
       "      <th>50%</th>\n",
       "      <td>446.000000</td>\n",
       "      <td>0.000000</td>\n",
       "      <td>3.000000</td>\n",
       "      <td>28.000000</td>\n",
       "      <td>0.000000</td>\n",
       "      <td>0.000000</td>\n",
       "      <td>14.454200</td>\n",
       "    </tr>\n",
       "    <tr>\n",
       "      <th>75%</th>\n",
       "      <td>668.500000</td>\n",
       "      <td>1.000000</td>\n",
       "      <td>3.000000</td>\n",
       "      <td>38.000000</td>\n",
       "      <td>1.000000</td>\n",
       "      <td>0.000000</td>\n",
       "      <td>31.000000</td>\n",
       "    </tr>\n",
       "    <tr>\n",
       "      <th>max</th>\n",
       "      <td>891.000000</td>\n",
       "      <td>1.000000</td>\n",
       "      <td>3.000000</td>\n",
       "      <td>80.000000</td>\n",
       "      <td>8.000000</td>\n",
       "      <td>6.000000</td>\n",
       "      <td>512.329200</td>\n",
       "    </tr>\n",
       "  </tbody>\n",
       "</table>\n",
       "</div>"
      ],
      "text/plain": [
       "       PassengerId    Survived      Pclass         Age       SibSp  \\\n",
       "count   891.000000  891.000000  891.000000  714.000000  891.000000   \n",
       "mean    446.000000    0.383838    2.308642   29.699118    0.523008   \n",
       "std     257.353842    0.486592    0.836071   14.526497    1.102743   \n",
       "min       1.000000    0.000000    1.000000    0.420000    0.000000   \n",
       "25%     223.500000    0.000000    2.000000   20.125000    0.000000   \n",
       "50%     446.000000    0.000000    3.000000   28.000000    0.000000   \n",
       "75%     668.500000    1.000000    3.000000   38.000000    1.000000   \n",
       "max     891.000000    1.000000    3.000000   80.000000    8.000000   \n",
       "\n",
       "            Parch        Fare  \n",
       "count  891.000000  891.000000  \n",
       "mean     0.381594   32.204208  \n",
       "std      0.806057   49.693429  \n",
       "min      0.000000    0.000000  \n",
       "25%      0.000000    7.910400  \n",
       "50%      0.000000   14.454200  \n",
       "75%      0.000000   31.000000  \n",
       "max      6.000000  512.329200  "
      ]
     },
     "execution_count": 5,
     "metadata": {},
     "output_type": "execute_result"
    }
   ],
   "source": [
    "df_train.describe()"
   ]
  },
  {
   "cell_type": "code",
   "execution_count": 6,
   "id": "ee2aabc3",
   "metadata": {
    "execution": {
     "iopub.execute_input": "2023-07-08T21:21:44.864823Z",
     "iopub.status.busy": "2023-07-08T21:21:44.864428Z",
     "iopub.status.idle": "2023-07-08T21:21:44.869091Z",
     "shell.execute_reply": "2023-07-08T21:21:44.867811Z"
    },
    "papermill": {
     "duration": 0.023128,
     "end_time": "2023-07-08T21:21:44.871293",
     "exception": false,
     "start_time": "2023-07-08T21:21:44.848165",
     "status": "completed"
    },
    "tags": []
   },
   "outputs": [],
   "source": [
    "#import seaborn as sns\n",
    "#ax=sns.pairplot(df_train)#, hue= \"cut\")\n",
    "#ax"
   ]
  },
  {
   "cell_type": "code",
   "execution_count": 7,
   "id": "9cdd5431",
   "metadata": {
    "execution": {
     "iopub.execute_input": "2023-07-08T21:21:44.901937Z",
     "iopub.status.busy": "2023-07-08T21:21:44.901305Z",
     "iopub.status.idle": "2023-07-08T21:21:44.911826Z",
     "shell.execute_reply": "2023-07-08T21:21:44.910292Z"
    },
    "papermill": {
     "duration": 0.028804,
     "end_time": "2023-07-08T21:21:44.914300",
     "exception": false,
     "start_time": "2023-07-08T21:21:44.885496",
     "status": "completed"
    },
    "tags": []
   },
   "outputs": [
    {
     "name": "stdout",
     "output_type": "stream",
     "text": [
      "PassengerId have 891 \n",
      "Survived have 2 \n",
      "Pclass have 3 \n",
      "Name have 891 \n",
      "Sex have 2 \n",
      "Age have 88 \n",
      "SibSp have 7 \n",
      "Parch have 7 \n",
      "Ticket have 681 \n",
      "Fare have 248 \n",
      "Cabin have 147 \n",
      "Embarked have 3 \n"
     ]
    }
   ],
   "source": [
    "columns=df_train.columns\n",
    "for i in columns :\n",
    "    print(f'{i} have {df_train[i].nunique()} ')"
   ]
  },
  {
   "cell_type": "code",
   "execution_count": 8,
   "id": "18a4083c",
   "metadata": {
    "execution": {
     "iopub.execute_input": "2023-07-08T21:21:44.944231Z",
     "iopub.status.busy": "2023-07-08T21:21:44.943339Z",
     "iopub.status.idle": "2023-07-08T21:21:44.951886Z",
     "shell.execute_reply": "2023-07-08T21:21:44.950692Z"
    },
    "papermill": {
     "duration": 0.026566,
     "end_time": "2023-07-08T21:21:44.954562",
     "exception": false,
     "start_time": "2023-07-08T21:21:44.927996",
     "status": "completed"
    },
    "tags": []
   },
   "outputs": [
    {
     "data": {
      "text/plain": [
       "array([nan, 'C85', 'C123', 'E46', 'G6', 'C103', 'D56', 'A6',\n",
       "       'C23 C25 C27', 'B78', 'D33', 'B30', 'C52', 'B28', 'C83', 'F33',\n",
       "       'F G73', 'E31', 'A5', 'D10 D12', 'D26', 'C110', 'B58 B60', 'E101',\n",
       "       'F E69', 'D47', 'B86', 'F2', 'C2', 'E33', 'B19', 'A7', 'C49', 'F4',\n",
       "       'A32', 'B4', 'B80', 'A31', 'D36', 'D15', 'C93', 'C78', 'D35',\n",
       "       'C87', 'B77', 'E67', 'B94', 'C125', 'C99', 'C118', 'D7', 'A19',\n",
       "       'B49', 'D', 'C22 C26', 'C106', 'C65', 'E36', 'C54',\n",
       "       'B57 B59 B63 B66', 'C7', 'E34', 'C32', 'B18', 'C124', 'C91', 'E40',\n",
       "       'T', 'C128', 'D37', 'B35', 'E50', 'C82', 'B96 B98', 'E10', 'E44',\n",
       "       'A34', 'C104', 'C111', 'C92', 'E38', 'D21', 'E12', 'E63', 'A14',\n",
       "       'B37', 'C30', 'D20', 'B79', 'E25', 'D46', 'B73', 'C95', 'B38',\n",
       "       'B39', 'B22', 'C86', 'C70', 'A16', 'C101', 'C68', 'A10', 'E68',\n",
       "       'B41', 'A20', 'D19', 'D50', 'D9', 'A23', 'B50', 'A26', 'D48',\n",
       "       'E58', 'C126', 'B71', 'B51 B53 B55', 'D49', 'B5', 'B20', 'F G63',\n",
       "       'C62 C64', 'E24', 'C90', 'C45', 'E8', 'B101', 'D45', 'C46', 'D30',\n",
       "       'E121', 'D11', 'E77', 'F38', 'B3', 'D6', 'B82 B84', 'D17', 'A36',\n",
       "       'B102', 'B69', 'E49', 'C47', 'D28', 'E17', 'A24', 'C50', 'B42',\n",
       "       'C148'], dtype=object)"
      ]
     },
     "execution_count": 8,
     "metadata": {},
     "output_type": "execute_result"
    }
   ],
   "source": [
    "df_train[\"Cabin\"].unique()\n",
    "# A , B , C , D , E , F , G  , T"
   ]
  },
  {
   "cell_type": "code",
   "execution_count": 9,
   "id": "8ce16393",
   "metadata": {
    "execution": {
     "iopub.execute_input": "2023-07-08T21:21:44.985161Z",
     "iopub.status.busy": "2023-07-08T21:21:44.984472Z",
     "iopub.status.idle": "2023-07-08T21:21:44.989501Z",
     "shell.execute_reply": "2023-07-08T21:21:44.988658Z"
    },
    "papermill": {
     "duration": 0.022828,
     "end_time": "2023-07-08T21:21:44.991821",
     "exception": false,
     "start_time": "2023-07-08T21:21:44.968993",
     "status": "completed"
    },
    "tags": []
   },
   "outputs": [],
   "source": [
    "#import matplotlib.pyplot as plt\n",
    "#import seaborn as sns\n",
    "\n",
    "#fig= plt.figure(figsize=(70,10))\n",
    "\n",
    "#Cabin_Letter_survival_rate = df_train.groupby('Cabin')['Survived'].mean().reset_index()\n",
    "#ax= sns.barplot(x='Cabin', y='Survived', data=Cabin_Letter_survival_rate,  alpha= 0.9, width= 0.6)\n",
    "#for p in ax.patches:\n",
    "#    ax.annotate(f'{p.get_height()*100:.1f}%', (p.get_x() + p.get_width() / 2., p.get_height()),\n",
    "#                ha='center', va='center', fontsize=10, color='black', xytext=(0, 8),textcoords='offset points')"
   ]
  },
  {
   "cell_type": "code",
   "execution_count": 10,
   "id": "26e6a51a",
   "metadata": {
    "execution": {
     "iopub.execute_input": "2023-07-08T21:21:45.027889Z",
     "iopub.status.busy": "2023-07-08T21:21:45.027245Z",
     "iopub.status.idle": "2023-07-08T21:21:45.032639Z",
     "shell.execute_reply": "2023-07-08T21:21:45.031637Z"
    },
    "papermill": {
     "duration": 0.02626,
     "end_time": "2023-07-08T21:21:45.035317",
     "exception": false,
     "start_time": "2023-07-08T21:21:45.009057",
     "status": "completed"
    },
    "tags": []
   },
   "outputs": [],
   "source": [
    "#import matplotlib.pyplot as plt\n",
    "#import seaborn as sns\n",
    "\n",
    "#fig= plt.figure(figsize=(50,7))\n",
    "\n",
    "#Cabin_Letter_survival_rate = df_train.groupby('Age')['Survived'].mean().reset_index()\n",
    "#ax= sns.barplot(x='Age', y='Survived', data=Cabin_Letter_survival_rate,  alpha= 0.9, width= 0.6)\n",
    "#for p in ax.patches:\n",
    "#    ax.annotate(f'{p.get_height()*100:.1f}%', (p.get_x() + p.get_width() / 2., p.get_height()),\n",
    "#                ha='center', va='center', fontsize=10, color='black', xytext=(0, 8),textcoords='offset points')\n",
    "   #     16<=x<36 36<x<48     x>=48\n",
    "#c2 =[7-->11 ,14<15 ,16-->28 34-->47,51,54,55.5,57,59,61,64-->74]\n",
    "#c1 =[1-->6 ,12-->13 ,29-->34,15,48-->50,53]\n",
    "# 0 .25 .5 .75 1\n",
    "\n"
   ]
  },
  {
   "cell_type": "code",
   "execution_count": 11,
   "id": "24efbb19",
   "metadata": {
    "execution": {
     "iopub.execute_input": "2023-07-08T21:21:45.066175Z",
     "iopub.status.busy": "2023-07-08T21:21:45.065473Z",
     "iopub.status.idle": "2023-07-08T21:21:45.070677Z",
     "shell.execute_reply": "2023-07-08T21:21:45.069854Z"
    },
    "papermill": {
     "duration": 0.022809,
     "end_time": "2023-07-08T21:21:45.072995",
     "exception": false,
     "start_time": "2023-07-08T21:21:45.050186",
     "status": "completed"
    },
    "tags": []
   },
   "outputs": [],
   "source": [
    "#Cabin_Letter_survival_rate"
   ]
  },
  {
   "cell_type": "code",
   "execution_count": 12,
   "id": "95f6085f",
   "metadata": {
    "execution": {
     "iopub.execute_input": "2023-07-08T21:21:45.103360Z",
     "iopub.status.busy": "2023-07-08T21:21:45.102130Z",
     "iopub.status.idle": "2023-07-08T21:21:45.117229Z",
     "shell.execute_reply": "2023-07-08T21:21:45.115850Z"
    },
    "papermill": {
     "duration": 0.032872,
     "end_time": "2023-07-08T21:21:45.119803",
     "exception": false,
     "start_time": "2023-07-08T21:21:45.086931",
     "status": "completed"
    },
    "tags": []
   },
   "outputs": [
    {
     "data": {
      "text/plain": [
       "array(['110152', '110413', '110465', '110564', '110813', '111240',\n",
       "       '111320', '111361', '111369', '111426', '111427', '111428',\n",
       "       '112050', '112052', '112053', '112058', '112059', '112277',\n",
       "       '112379', '113028', '113043', '113050', '113051', '113055',\n",
       "       '113056', '113059', '113501', '113503', '113505', '113509',\n",
       "       '113510', '113514', '113572', '113760', '113767', '113773',\n",
       "       '113776', '113781', '113783', '113784', '113786', '113787',\n",
       "       '113788', '113789', '113792', '113794', '113796', '113798',\n",
       "       '113800', '113803', '113804', '113806', '113807', '11668', '11751',\n",
       "       '11752', '11753', '11755', '11765', '11767', '11769', '11771',\n",
       "       '11774', '11813', '11967', '12233', '12460', '12749', '13049',\n",
       "       '13213', '13214', '13502', '13507', '13509', '13567', '13568',\n",
       "       '14311', '14312', '14313', '14973', '1601', '16966', '16988',\n",
       "       '17421', '17453', '17463', '17464', '17465', '17466', '17474',\n",
       "       '17764', '19877', '19928', '19943', '19947', '19950', '19952',\n",
       "       '19972', '19988', '19996', '2003', '211536', '21440', '218629',\n",
       "       '219533', '220367', '220845', '2223', '223596', '226593', '226875',\n",
       "       '228414', '229236', '230080', '230136', '230433', '230434',\n",
       "       '231919', '231945', '233639', '233866', '234360', '234604',\n",
       "       '234686', '234818', '236171', '236852', '236853', '237442',\n",
       "       '237565', '237668', '237671', '237736', '237789', '237798',\n",
       "       '239853', '239854', '239855', '239856', '239865', '240929',\n",
       "       '24160', '243847', '243880', '244252', '244270', '244278',\n",
       "       '244310', '244358', '244361', '244367', '244373', '248698',\n",
       "       '248706', '248723', '248727', '248731', '248733', '248738',\n",
       "       '248740', '248747', '250643', '250644', '250646', '250647',\n",
       "       '250648', '250649', '250651', '250652', '250653', '250655', '2620',\n",
       "       '2623', '2624', '2625', '2626', '2627', '2628', '2629', '2631',\n",
       "       '26360', '2641', '2647', '2648', '2649', '2650', '2651', '2653',\n",
       "       '2659', '2661', '2662', '2663', '2664', '2665', '2666', '2667',\n",
       "       '2668', '2669', '26707', '2671', '2672', '2674', '2677', '2678',\n",
       "       '2680', '2683', '2685', '2686', '2687', '2689', '2690', '2691',\n",
       "       '2693', '2694', '2695', '2697', '2699', '2700', '27042', '27267',\n",
       "       '27849', '28134', '28206', '28213', '28220', '28228', '28403',\n",
       "       '28424', '28425', '28551', '28664', '28665', '29011', '2908',\n",
       "       '29103', '29104', '29105', '29106', '29108', '2926', '29750',\n",
       "       '29751', '3101264', '3101265', '3101267', '3101276', '3101277',\n",
       "       '3101278', '3101281', '3101295', '3101296', '3101298', '31027',\n",
       "       '31028', '312991', '312992', '312993', '31418', '315037', '315082',\n",
       "       '315084', '315086', '315088', '315089', '315090', '315093',\n",
       "       '315094', '315096', '315097', '315098', '315151', '315153',\n",
       "       '323592', '323951', '324669', '330877', '330909', '330919',\n",
       "       '330923', '330931', '330932', '330935', '330958', '330959',\n",
       "       '330979', '330980', '334912', '335097', '335677', '33638',\n",
       "       '336439', '3411', '341826', '34218', '342826', '343095', '343120',\n",
       "       '343275', '343276', '345364', '345572', '345763', '345764',\n",
       "       '345765', '345767', '345769', '345770', '345773', '345774',\n",
       "       '345777', '345778', '345779', '345780', '345781', '345783', '3460',\n",
       "       '347054', '347060', '347061', '347062', '347063', '347064',\n",
       "       '347067', '347068', '347069', '347071', '347073', '347074',\n",
       "       '347076', '347077', '347078', '347080', '347081', '347082',\n",
       "       '347083', '347085', '347087', '347088', '347089', '3474', '347464',\n",
       "       '347466', '347468', '347470', '347742', '347743', '348121',\n",
       "       '348123', '348124', '349201', '349203', '349204', '349205',\n",
       "       '349206', '349207', '349208', '349209', '349210', '349212',\n",
       "       '349213', '349214', '349215', '349216', '349217', '349218',\n",
       "       '349219', '349221', '349222', '349223', '349224', '349225',\n",
       "       '349227', '349228', '349231', '349233', '349234', '349236',\n",
       "       '349237', '349239', '349240', '349241', '349242', '349243',\n",
       "       '349244', '349245', '349246', '349247', '349248', '349249',\n",
       "       '349251', '349252', '349253', '349254', '349256', '349257',\n",
       "       '349909', '349910', '349912', '350025', '350026', '350029',\n",
       "       '350034', '350035', '350036', '350042', '350043', '350046',\n",
       "       '350047', '350048', '350050', '350052', '350060', '350404',\n",
       "       '350406', '350407', '350417', '35273', '35281', '35851', '35852',\n",
       "       '358585', '36209', '362316', '363291', '363294', '363592',\n",
       "       '364498', '364499', '364500', '364506', '364511', '364512',\n",
       "       '364516', '364846', '364848', '364849', '364850', '364851',\n",
       "       '365222', '365226', '36568', '367226', '367228', '367229',\n",
       "       '367230', '367231', '367232', '367655', '368323', '36864', '36865',\n",
       "       '36866', '368703', '36928', '36947', '36963', '36967', '36973',\n",
       "       '370129', '370365', '370369', '370370', '370371', '370372',\n",
       "       '370373', '370375', '370376', '370377', '371060', '371110',\n",
       "       '371362', '372622', '373450', '374746', '374887', '374910',\n",
       "       '376564', '376566', '382649', '382651', '382652', '383121',\n",
       "       '384461', '386525', '392091', '392092', '392096', '394140', '4133',\n",
       "       '4134', '4135', '4136', '4137', '4138', '4579', '54636', '5727',\n",
       "       '65303', '65304', '65306', '6563', '693', '695', '7267', '7534',\n",
       "       '7540', '7545', '7546', '7552', '7553', '7598', '8471', '8475',\n",
       "       '9234', 'A./5. 2152', 'A./5. 3235', 'A.5. 11206', 'A.5. 18509',\n",
       "       'A/4 45380', 'A/4 48871', 'A/4. 20589', 'A/4. 34244', 'A/4. 39886',\n",
       "       'A/5 21171', 'A/5 21172', 'A/5 21173', 'A/5 21174', 'A/5 2466',\n",
       "       'A/5 2817', 'A/5 3536', 'A/5 3540', 'A/5 3594', 'A/5 3902',\n",
       "       'A/5. 10482', 'A/5. 13032', 'A/5. 2151', 'A/5. 3336', 'A/5. 3337',\n",
       "       'A/5. 851', 'A/S 2816', 'A4. 54510', 'C 17369', 'C 4001', 'C 7075',\n",
       "       'C 7076', 'C 7077', 'C.A. 17248', 'C.A. 18723', 'C.A. 2315',\n",
       "       'C.A. 24579', 'C.A. 24580', 'C.A. 2673', 'C.A. 29178',\n",
       "       'C.A. 29395', 'C.A. 29566', 'C.A. 31026', 'C.A. 31921',\n",
       "       'C.A. 33111', 'C.A. 33112', 'C.A. 33595', 'C.A. 34260',\n",
       "       'C.A. 34651', 'C.A. 37671', 'C.A. 5547', 'C.A. 6212',\n",
       "       'C.A./SOTON 34068', 'CA 2144', 'CA. 2314', 'CA. 2343',\n",
       "       'F.C. 12750', 'F.C.C. 13528', 'F.C.C. 13529', 'F.C.C. 13531',\n",
       "       'Fa 265302', 'LINE', 'P/PP 3381', 'PC 17318', 'PC 17473',\n",
       "       'PC 17474', 'PC 17475', 'PC 17476', 'PC 17477', 'PC 17482',\n",
       "       'PC 17483', 'PC 17485', 'PC 17558', 'PC 17569', 'PC 17572',\n",
       "       'PC 17582', 'PC 17585', 'PC 17590', 'PC 17592', 'PC 17593',\n",
       "       'PC 17595', 'PC 17596', 'PC 17597', 'PC 17599', 'PC 17600',\n",
       "       'PC 17601', 'PC 17603', 'PC 17604', 'PC 17605', 'PC 17608',\n",
       "       'PC 17609', 'PC 17610', 'PC 17611', 'PC 17612', 'PC 17754',\n",
       "       'PC 17755', 'PC 17756', 'PC 17757', 'PC 17758', 'PC 17759',\n",
       "       'PC 17760', 'PC 17761', 'PP 4348', 'PP 9549', 'S.C./A.4. 23567',\n",
       "       'S.C./PARIS 2079', 'S.O./P.P. 3', 'S.O./P.P. 751', 'S.O.C. 14879',\n",
       "       'S.O.P. 1166', 'S.P. 3464', 'S.W./PP 752', 'SC 1748',\n",
       "       'SC/AH 29037', 'SC/AH 3085', 'SC/AH Basle 541', 'SC/PARIS 2131',\n",
       "       'SC/PARIS 2133', 'SC/PARIS 2146', 'SC/PARIS 2149', 'SC/PARIS 2167',\n",
       "       'SC/Paris 2123', 'SC/Paris 2163', 'SCO/W 1585', 'SO/C 14885',\n",
       "       'SOTON/O.Q. 3101305', 'SOTON/O.Q. 3101306', 'SOTON/O.Q. 3101307',\n",
       "       'SOTON/O.Q. 3101310', 'SOTON/O.Q. 3101311', 'SOTON/O.Q. 3101312',\n",
       "       'SOTON/O.Q. 392078', 'SOTON/O.Q. 392087', 'SOTON/O2 3101272',\n",
       "       'SOTON/O2 3101287', 'SOTON/OQ 3101316', 'SOTON/OQ 3101317',\n",
       "       'SOTON/OQ 392076', 'SOTON/OQ 392082', 'SOTON/OQ 392086',\n",
       "       'SOTON/OQ 392089', 'SOTON/OQ 392090', 'STON/O 2. 3101269',\n",
       "       'STON/O 2. 3101273', 'STON/O 2. 3101274', 'STON/O 2. 3101275',\n",
       "       'STON/O 2. 3101280', 'STON/O 2. 3101285', 'STON/O 2. 3101286',\n",
       "       'STON/O 2. 3101288', 'STON/O 2. 3101289', 'STON/O 2. 3101292',\n",
       "       'STON/O 2. 3101293', 'STON/O 2. 3101294', 'STON/O2. 3101271',\n",
       "       'STON/O2. 3101279', 'STON/O2. 3101282', 'STON/O2. 3101283',\n",
       "       'STON/O2. 3101290', 'SW/PP 751', 'W./C. 14258', 'W./C. 14263',\n",
       "       'W./C. 6607', 'W./C. 6608', 'W./C. 6609', 'W.E.P. 5734',\n",
       "       'W/C 14208', 'WE/P 5735'], dtype=object)"
      ]
     },
     "execution_count": 12,
     "metadata": {},
     "output_type": "execute_result"
    }
   ],
   "source": [
    "np.sort(df_train[\"Ticket\"].unique())\n"
   ]
  },
  {
   "cell_type": "code",
   "execution_count": 13,
   "id": "621700bf",
   "metadata": {
    "execution": {
     "iopub.execute_input": "2023-07-08T21:21:45.150245Z",
     "iopub.status.busy": "2023-07-08T21:21:45.149568Z",
     "iopub.status.idle": "2023-07-08T21:21:45.163870Z",
     "shell.execute_reply": "2023-07-08T21:21:45.162948Z"
    },
    "papermill": {
     "duration": 0.032786,
     "end_time": "2023-07-08T21:21:45.166850",
     "exception": false,
     "start_time": "2023-07-08T21:21:45.134064",
     "status": "completed"
    },
    "tags": []
   },
   "outputs": [
    {
     "name": "stdout",
     "output_type": "stream",
     "text": [
      "<class 'pandas.core.frame.DataFrame'>\n",
      "RangeIndex: 418 entries, 0 to 417\n",
      "Data columns (total 11 columns):\n",
      " #   Column       Non-Null Count  Dtype  \n",
      "---  ------       --------------  -----  \n",
      " 0   PassengerId  418 non-null    int64  \n",
      " 1   Pclass       418 non-null    int64  \n",
      " 2   Name         418 non-null    object \n",
      " 3   Sex          418 non-null    object \n",
      " 4   Age          332 non-null    float64\n",
      " 5   SibSp        418 non-null    int64  \n",
      " 6   Parch        418 non-null    int64  \n",
      " 7   Ticket       418 non-null    object \n",
      " 8   Fare         417 non-null    float64\n",
      " 9   Cabin        91 non-null     object \n",
      " 10  Embarked     418 non-null    object \n",
      "dtypes: float64(2), int64(4), object(5)\n",
      "memory usage: 36.0+ KB\n"
     ]
    }
   ],
   "source": [
    "df_test.info()"
   ]
  },
  {
   "cell_type": "markdown",
   "id": "176c7c94",
   "metadata": {
    "papermill": {
     "duration": 0.013891,
     "end_time": "2023-07-08T21:21:45.195004",
     "exception": false,
     "start_time": "2023-07-08T21:21:45.181113",
     "status": "completed"
    },
    "tags": []
   },
   "source": [
    "# Summary of explore"
   ]
  },
  {
   "cell_type": "markdown",
   "id": "d0453d61",
   "metadata": {
    "papermill": {
     "duration": 0.014027,
     "end_time": "2023-07-08T21:21:45.223672",
     "exception": false,
     "start_time": "2023-07-08T21:21:45.209645",
     "status": "completed"
    },
    "tags": []
   },
   "source": [
    "**Drop :**\n",
    "* *PassengerId , Name* all of it are unique values\n",
    "\n",
    "**Drop OR preprocessing With convert:**\n",
    "* *Cabin* have alot of null values \n",
    "* *Ticket* big number of unique values\n",
    "\n",
    "**Need to preprocessing :**\n",
    "* *Age , Embarked*\n",
    "\n",
    "**Need to convert:**\n",
    "* *Sex, Embarked* --> Nominal\n",
    " "
   ]
  },
  {
   "cell_type": "markdown",
   "id": "51732849",
   "metadata": {
    "papermill": {
     "duration": 0.01451,
     "end_time": "2023-07-08T21:21:45.253106",
     "exception": false,
     "start_time": "2023-07-08T21:21:45.238596",
     "status": "completed"
    },
    "tags": []
   },
   "source": [
    "# Preprocessing"
   ]
  },
  {
   "cell_type": "code",
   "execution_count": 14,
   "id": "b45e5167",
   "metadata": {
    "execution": {
     "iopub.execute_input": "2023-07-08T21:21:45.283950Z",
     "iopub.status.busy": "2023-07-08T21:21:45.283206Z",
     "iopub.status.idle": "2023-07-08T21:21:45.319125Z",
     "shell.execute_reply": "2023-07-08T21:21:45.317595Z"
    },
    "papermill": {
     "duration": 0.0548,
     "end_time": "2023-07-08T21:21:45.322130",
     "exception": false,
     "start_time": "2023-07-08T21:21:45.267330",
     "status": "completed"
    },
    "tags": []
   },
   "outputs": [
    {
     "data": {
      "text/html": [
       "<div>\n",
       "<style scoped>\n",
       "    .dataframe tbody tr th:only-of-type {\n",
       "        vertical-align: middle;\n",
       "    }\n",
       "\n",
       "    .dataframe tbody tr th {\n",
       "        vertical-align: top;\n",
       "    }\n",
       "\n",
       "    .dataframe thead th {\n",
       "        text-align: right;\n",
       "    }\n",
       "</style>\n",
       "<table border=\"1\" class=\"dataframe\">\n",
       "  <thead>\n",
       "    <tr style=\"text-align: right;\">\n",
       "      <th></th>\n",
       "      <th>PassengerId</th>\n",
       "      <th>Pclass</th>\n",
       "      <th>Name</th>\n",
       "      <th>Sex</th>\n",
       "      <th>Age</th>\n",
       "      <th>SibSp</th>\n",
       "      <th>Parch</th>\n",
       "      <th>Ticket</th>\n",
       "      <th>Fare</th>\n",
       "      <th>Cabin</th>\n",
       "      <th>Embarked</th>\n",
       "    </tr>\n",
       "  </thead>\n",
       "  <tbody>\n",
       "    <tr>\n",
       "      <th>0</th>\n",
       "      <td>892</td>\n",
       "      <td>3</td>\n",
       "      <td>Kelly, Mr. James</td>\n",
       "      <td>male</td>\n",
       "      <td>34.5</td>\n",
       "      <td>0</td>\n",
       "      <td>0</td>\n",
       "      <td>330911</td>\n",
       "      <td>7.8292</td>\n",
       "      <td>null</td>\n",
       "      <td>Q</td>\n",
       "    </tr>\n",
       "    <tr>\n",
       "      <th>1</th>\n",
       "      <td>893</td>\n",
       "      <td>3</td>\n",
       "      <td>Wilkes, Mrs. James (Ellen Needs)</td>\n",
       "      <td>female</td>\n",
       "      <td>47.0</td>\n",
       "      <td>1</td>\n",
       "      <td>0</td>\n",
       "      <td>363272</td>\n",
       "      <td>7.0000</td>\n",
       "      <td>null</td>\n",
       "      <td>S</td>\n",
       "    </tr>\n",
       "    <tr>\n",
       "      <th>2</th>\n",
       "      <td>894</td>\n",
       "      <td>2</td>\n",
       "      <td>Myles, Mr. Thomas Francis</td>\n",
       "      <td>male</td>\n",
       "      <td>62.0</td>\n",
       "      <td>0</td>\n",
       "      <td>0</td>\n",
       "      <td>240276</td>\n",
       "      <td>9.6875</td>\n",
       "      <td>null</td>\n",
       "      <td>Q</td>\n",
       "    </tr>\n",
       "    <tr>\n",
       "      <th>3</th>\n",
       "      <td>895</td>\n",
       "      <td>3</td>\n",
       "      <td>Wirz, Mr. Albert</td>\n",
       "      <td>male</td>\n",
       "      <td>27.0</td>\n",
       "      <td>0</td>\n",
       "      <td>0</td>\n",
       "      <td>315154</td>\n",
       "      <td>8.6625</td>\n",
       "      <td>null</td>\n",
       "      <td>S</td>\n",
       "    </tr>\n",
       "    <tr>\n",
       "      <th>4</th>\n",
       "      <td>896</td>\n",
       "      <td>3</td>\n",
       "      <td>Hirvonen, Mrs. Alexander (Helga E Lindqvist)</td>\n",
       "      <td>female</td>\n",
       "      <td>22.0</td>\n",
       "      <td>1</td>\n",
       "      <td>1</td>\n",
       "      <td>3101298</td>\n",
       "      <td>12.2875</td>\n",
       "      <td>null</td>\n",
       "      <td>S</td>\n",
       "    </tr>\n",
       "    <tr>\n",
       "      <th>...</th>\n",
       "      <td>...</td>\n",
       "      <td>...</td>\n",
       "      <td>...</td>\n",
       "      <td>...</td>\n",
       "      <td>...</td>\n",
       "      <td>...</td>\n",
       "      <td>...</td>\n",
       "      <td>...</td>\n",
       "      <td>...</td>\n",
       "      <td>...</td>\n",
       "      <td>...</td>\n",
       "    </tr>\n",
       "    <tr>\n",
       "      <th>413</th>\n",
       "      <td>1305</td>\n",
       "      <td>3</td>\n",
       "      <td>Spector, Mr. Woolf</td>\n",
       "      <td>male</td>\n",
       "      <td>NaN</td>\n",
       "      <td>0</td>\n",
       "      <td>0</td>\n",
       "      <td>A.5. 3236</td>\n",
       "      <td>8.0500</td>\n",
       "      <td>null</td>\n",
       "      <td>S</td>\n",
       "    </tr>\n",
       "    <tr>\n",
       "      <th>414</th>\n",
       "      <td>1306</td>\n",
       "      <td>1</td>\n",
       "      <td>Oliva y Ocana, Dona. Fermina</td>\n",
       "      <td>female</td>\n",
       "      <td>39.0</td>\n",
       "      <td>0</td>\n",
       "      <td>0</td>\n",
       "      <td>PC 17758</td>\n",
       "      <td>108.9000</td>\n",
       "      <td>C</td>\n",
       "      <td>C</td>\n",
       "    </tr>\n",
       "    <tr>\n",
       "      <th>415</th>\n",
       "      <td>1307</td>\n",
       "      <td>3</td>\n",
       "      <td>Saether, Mr. Simon Sivertsen</td>\n",
       "      <td>male</td>\n",
       "      <td>38.5</td>\n",
       "      <td>0</td>\n",
       "      <td>0</td>\n",
       "      <td>SOTON/O.Q. 3101262</td>\n",
       "      <td>7.2500</td>\n",
       "      <td>null</td>\n",
       "      <td>S</td>\n",
       "    </tr>\n",
       "    <tr>\n",
       "      <th>416</th>\n",
       "      <td>1308</td>\n",
       "      <td>3</td>\n",
       "      <td>Ware, Mr. Frederick</td>\n",
       "      <td>male</td>\n",
       "      <td>NaN</td>\n",
       "      <td>0</td>\n",
       "      <td>0</td>\n",
       "      <td>359309</td>\n",
       "      <td>8.0500</td>\n",
       "      <td>null</td>\n",
       "      <td>S</td>\n",
       "    </tr>\n",
       "    <tr>\n",
       "      <th>417</th>\n",
       "      <td>1309</td>\n",
       "      <td>3</td>\n",
       "      <td>Peter, Master. Michael J</td>\n",
       "      <td>male</td>\n",
       "      <td>NaN</td>\n",
       "      <td>1</td>\n",
       "      <td>1</td>\n",
       "      <td>2668</td>\n",
       "      <td>22.3583</td>\n",
       "      <td>null</td>\n",
       "      <td>C</td>\n",
       "    </tr>\n",
       "  </tbody>\n",
       "</table>\n",
       "<p>418 rows × 11 columns</p>\n",
       "</div>"
      ],
      "text/plain": [
       "     PassengerId  Pclass                                          Name  \\\n",
       "0            892       3                              Kelly, Mr. James   \n",
       "1            893       3              Wilkes, Mrs. James (Ellen Needs)   \n",
       "2            894       2                     Myles, Mr. Thomas Francis   \n",
       "3            895       3                              Wirz, Mr. Albert   \n",
       "4            896       3  Hirvonen, Mrs. Alexander (Helga E Lindqvist)   \n",
       "..           ...     ...                                           ...   \n",
       "413         1305       3                            Spector, Mr. Woolf   \n",
       "414         1306       1                  Oliva y Ocana, Dona. Fermina   \n",
       "415         1307       3                  Saether, Mr. Simon Sivertsen   \n",
       "416         1308       3                           Ware, Mr. Frederick   \n",
       "417         1309       3                      Peter, Master. Michael J   \n",
       "\n",
       "        Sex   Age  SibSp  Parch              Ticket      Fare Cabin Embarked  \n",
       "0      male  34.5      0      0              330911    7.8292  null        Q  \n",
       "1    female  47.0      1      0              363272    7.0000  null        S  \n",
       "2      male  62.0      0      0              240276    9.6875  null        Q  \n",
       "3      male  27.0      0      0              315154    8.6625  null        S  \n",
       "4    female  22.0      1      1             3101298   12.2875  null        S  \n",
       "..      ...   ...    ...    ...                 ...       ...   ...      ...  \n",
       "413    male   NaN      0      0           A.5. 3236    8.0500  null        S  \n",
       "414  female  39.0      0      0            PC 17758  108.9000     C        C  \n",
       "415    male  38.5      0      0  SOTON/O.Q. 3101262    7.2500  null        S  \n",
       "416    male   NaN      0      0              359309    8.0500  null        S  \n",
       "417    male   NaN      1      1                2668   22.3583  null        C  \n",
       "\n",
       "[418 rows x 11 columns]"
      ]
     },
     "execution_count": 14,
     "metadata": {},
     "output_type": "execute_result"
    }
   ],
   "source": [
    "df_train.Cabin = df_train.Cabin.replace(np.nan,\"null\")\n",
    "df_train.Cabin = df_train.Cabin.str[:1]\n",
    "df_train.Cabin = df_train.Cabin.replace(\"n\",\"null\")\n",
    "\n",
    "df_test.Cabin = df_test.Cabin.replace(np.nan,\"null\")\n",
    "df_test.Cabin = df_test.Cabin.str[:1]\n",
    "df_test.Cabin = df_test.Cabin.replace(\"n\",\"null\")\n",
    "\n",
    "df_test"
   ]
  },
  {
   "cell_type": "code",
   "execution_count": 15,
   "id": "3bd99bfb",
   "metadata": {
    "execution": {
     "iopub.execute_input": "2023-07-08T21:21:45.355544Z",
     "iopub.status.busy": "2023-07-08T21:21:45.355145Z",
     "iopub.status.idle": "2023-07-08T21:21:45.386301Z",
     "shell.execute_reply": "2023-07-08T21:21:45.385391Z"
    },
    "papermill": {
     "duration": 0.049969,
     "end_time": "2023-07-08T21:21:45.388616",
     "exception": false,
     "start_time": "2023-07-08T21:21:45.338647",
     "status": "completed"
    },
    "tags": []
   },
   "outputs": [
    {
     "data": {
      "text/html": [
       "<div>\n",
       "<style scoped>\n",
       "    .dataframe tbody tr th:only-of-type {\n",
       "        vertical-align: middle;\n",
       "    }\n",
       "\n",
       "    .dataframe tbody tr th {\n",
       "        vertical-align: top;\n",
       "    }\n",
       "\n",
       "    .dataframe thead th {\n",
       "        text-align: right;\n",
       "    }\n",
       "</style>\n",
       "<table border=\"1\" class=\"dataframe\">\n",
       "  <thead>\n",
       "    <tr style=\"text-align: right;\">\n",
       "      <th></th>\n",
       "      <th>PassengerId</th>\n",
       "      <th>Survived</th>\n",
       "      <th>Pclass</th>\n",
       "      <th>Name</th>\n",
       "      <th>Sex</th>\n",
       "      <th>Age</th>\n",
       "      <th>SibSp</th>\n",
       "      <th>Parch</th>\n",
       "      <th>Ticket</th>\n",
       "      <th>Fare</th>\n",
       "      <th>Cabin</th>\n",
       "      <th>Embarked</th>\n",
       "      <th>have_Cabin</th>\n",
       "    </tr>\n",
       "  </thead>\n",
       "  <tbody>\n",
       "    <tr>\n",
       "      <th>0</th>\n",
       "      <td>1</td>\n",
       "      <td>0</td>\n",
       "      <td>3</td>\n",
       "      <td>Braund, Mr. Owen Harris</td>\n",
       "      <td>male</td>\n",
       "      <td>22.0</td>\n",
       "      <td>1</td>\n",
       "      <td>0</td>\n",
       "      <td>A/5 21171</td>\n",
       "      <td>7.2500</td>\n",
       "      <td>null</td>\n",
       "      <td>S</td>\n",
       "      <td>0</td>\n",
       "    </tr>\n",
       "    <tr>\n",
       "      <th>1</th>\n",
       "      <td>2</td>\n",
       "      <td>1</td>\n",
       "      <td>1</td>\n",
       "      <td>Cumings, Mrs. John Bradley (Florence Briggs Th...</td>\n",
       "      <td>female</td>\n",
       "      <td>38.0</td>\n",
       "      <td>1</td>\n",
       "      <td>0</td>\n",
       "      <td>PC 17599</td>\n",
       "      <td>71.2833</td>\n",
       "      <td>C</td>\n",
       "      <td>C</td>\n",
       "      <td>1</td>\n",
       "    </tr>\n",
       "    <tr>\n",
       "      <th>2</th>\n",
       "      <td>3</td>\n",
       "      <td>1</td>\n",
       "      <td>3</td>\n",
       "      <td>Heikkinen, Miss. Laina</td>\n",
       "      <td>female</td>\n",
       "      <td>26.0</td>\n",
       "      <td>0</td>\n",
       "      <td>0</td>\n",
       "      <td>STON/O2. 3101282</td>\n",
       "      <td>7.9250</td>\n",
       "      <td>null</td>\n",
       "      <td>S</td>\n",
       "      <td>0</td>\n",
       "    </tr>\n",
       "    <tr>\n",
       "      <th>3</th>\n",
       "      <td>4</td>\n",
       "      <td>1</td>\n",
       "      <td>1</td>\n",
       "      <td>Futrelle, Mrs. Jacques Heath (Lily May Peel)</td>\n",
       "      <td>female</td>\n",
       "      <td>35.0</td>\n",
       "      <td>1</td>\n",
       "      <td>0</td>\n",
       "      <td>113803</td>\n",
       "      <td>53.1000</td>\n",
       "      <td>C</td>\n",
       "      <td>S</td>\n",
       "      <td>1</td>\n",
       "    </tr>\n",
       "    <tr>\n",
       "      <th>4</th>\n",
       "      <td>5</td>\n",
       "      <td>0</td>\n",
       "      <td>3</td>\n",
       "      <td>Allen, Mr. William Henry</td>\n",
       "      <td>male</td>\n",
       "      <td>35.0</td>\n",
       "      <td>0</td>\n",
       "      <td>0</td>\n",
       "      <td>373450</td>\n",
       "      <td>8.0500</td>\n",
       "      <td>null</td>\n",
       "      <td>S</td>\n",
       "      <td>0</td>\n",
       "    </tr>\n",
       "    <tr>\n",
       "      <th>...</th>\n",
       "      <td>...</td>\n",
       "      <td>...</td>\n",
       "      <td>...</td>\n",
       "      <td>...</td>\n",
       "      <td>...</td>\n",
       "      <td>...</td>\n",
       "      <td>...</td>\n",
       "      <td>...</td>\n",
       "      <td>...</td>\n",
       "      <td>...</td>\n",
       "      <td>...</td>\n",
       "      <td>...</td>\n",
       "      <td>...</td>\n",
       "    </tr>\n",
       "    <tr>\n",
       "      <th>886</th>\n",
       "      <td>887</td>\n",
       "      <td>0</td>\n",
       "      <td>2</td>\n",
       "      <td>Montvila, Rev. Juozas</td>\n",
       "      <td>male</td>\n",
       "      <td>27.0</td>\n",
       "      <td>0</td>\n",
       "      <td>0</td>\n",
       "      <td>211536</td>\n",
       "      <td>13.0000</td>\n",
       "      <td>null</td>\n",
       "      <td>S</td>\n",
       "      <td>0</td>\n",
       "    </tr>\n",
       "    <tr>\n",
       "      <th>887</th>\n",
       "      <td>888</td>\n",
       "      <td>1</td>\n",
       "      <td>1</td>\n",
       "      <td>Graham, Miss. Margaret Edith</td>\n",
       "      <td>female</td>\n",
       "      <td>19.0</td>\n",
       "      <td>0</td>\n",
       "      <td>0</td>\n",
       "      <td>112053</td>\n",
       "      <td>30.0000</td>\n",
       "      <td>B</td>\n",
       "      <td>S</td>\n",
       "      <td>1</td>\n",
       "    </tr>\n",
       "    <tr>\n",
       "      <th>888</th>\n",
       "      <td>889</td>\n",
       "      <td>0</td>\n",
       "      <td>3</td>\n",
       "      <td>Johnston, Miss. Catherine Helen \"Carrie\"</td>\n",
       "      <td>female</td>\n",
       "      <td>NaN</td>\n",
       "      <td>1</td>\n",
       "      <td>2</td>\n",
       "      <td>W./C. 6607</td>\n",
       "      <td>23.4500</td>\n",
       "      <td>null</td>\n",
       "      <td>S</td>\n",
       "      <td>0</td>\n",
       "    </tr>\n",
       "    <tr>\n",
       "      <th>889</th>\n",
       "      <td>890</td>\n",
       "      <td>1</td>\n",
       "      <td>1</td>\n",
       "      <td>Behr, Mr. Karl Howell</td>\n",
       "      <td>male</td>\n",
       "      <td>26.0</td>\n",
       "      <td>0</td>\n",
       "      <td>0</td>\n",
       "      <td>111369</td>\n",
       "      <td>30.0000</td>\n",
       "      <td>C</td>\n",
       "      <td>C</td>\n",
       "      <td>1</td>\n",
       "    </tr>\n",
       "    <tr>\n",
       "      <th>890</th>\n",
       "      <td>891</td>\n",
       "      <td>0</td>\n",
       "      <td>3</td>\n",
       "      <td>Dooley, Mr. Patrick</td>\n",
       "      <td>male</td>\n",
       "      <td>32.0</td>\n",
       "      <td>0</td>\n",
       "      <td>0</td>\n",
       "      <td>370376</td>\n",
       "      <td>7.7500</td>\n",
       "      <td>null</td>\n",
       "      <td>Q</td>\n",
       "      <td>0</td>\n",
       "    </tr>\n",
       "  </tbody>\n",
       "</table>\n",
       "<p>891 rows × 13 columns</p>\n",
       "</div>"
      ],
      "text/plain": [
       "     PassengerId  Survived  Pclass  \\\n",
       "0              1         0       3   \n",
       "1              2         1       1   \n",
       "2              3         1       3   \n",
       "3              4         1       1   \n",
       "4              5         0       3   \n",
       "..           ...       ...     ...   \n",
       "886          887         0       2   \n",
       "887          888         1       1   \n",
       "888          889         0       3   \n",
       "889          890         1       1   \n",
       "890          891         0       3   \n",
       "\n",
       "                                                  Name     Sex   Age  SibSp  \\\n",
       "0                              Braund, Mr. Owen Harris    male  22.0      1   \n",
       "1    Cumings, Mrs. John Bradley (Florence Briggs Th...  female  38.0      1   \n",
       "2                               Heikkinen, Miss. Laina  female  26.0      0   \n",
       "3         Futrelle, Mrs. Jacques Heath (Lily May Peel)  female  35.0      1   \n",
       "4                             Allen, Mr. William Henry    male  35.0      0   \n",
       "..                                                 ...     ...   ...    ...   \n",
       "886                              Montvila, Rev. Juozas    male  27.0      0   \n",
       "887                       Graham, Miss. Margaret Edith  female  19.0      0   \n",
       "888           Johnston, Miss. Catherine Helen \"Carrie\"  female   NaN      1   \n",
       "889                              Behr, Mr. Karl Howell    male  26.0      0   \n",
       "890                                Dooley, Mr. Patrick    male  32.0      0   \n",
       "\n",
       "     Parch            Ticket     Fare Cabin Embarked  have_Cabin  \n",
       "0        0         A/5 21171   7.2500  null        S           0  \n",
       "1        0          PC 17599  71.2833     C        C           1  \n",
       "2        0  STON/O2. 3101282   7.9250  null        S           0  \n",
       "3        0            113803  53.1000     C        S           1  \n",
       "4        0            373450   8.0500  null        S           0  \n",
       "..     ...               ...      ...   ...      ...         ...  \n",
       "886      0            211536  13.0000  null        S           0  \n",
       "887      0            112053  30.0000     B        S           1  \n",
       "888      2        W./C. 6607  23.4500  null        S           0  \n",
       "889      0            111369  30.0000     C        C           1  \n",
       "890      0            370376   7.7500  null        Q           0  \n",
       "\n",
       "[891 rows x 13 columns]"
      ]
     },
     "execution_count": 15,
     "metadata": {},
     "output_type": "execute_result"
    }
   ],
   "source": [
    "df_train['have_Cabin']  = [1 if i != \"null\" and i !=\"T\" else 0 for i in df_train.Cabin  ]\n",
    "df_test['have_Cabin']  = [1 if i != \"null\" and i !=\"T\" else 0 for i in df_test.Cabin  ]\n",
    "\n",
    "df_train"
   ]
  },
  {
   "cell_type": "code",
   "execution_count": 16,
   "id": "e635a980",
   "metadata": {
    "execution": {
     "iopub.execute_input": "2023-07-08T21:21:45.423631Z",
     "iopub.status.busy": "2023-07-08T21:21:45.422845Z",
     "iopub.status.idle": "2023-07-08T21:21:45.427117Z",
     "shell.execute_reply": "2023-07-08T21:21:45.426208Z"
    },
    "papermill": {
     "duration": 0.024259,
     "end_time": "2023-07-08T21:21:45.429449",
     "exception": false,
     "start_time": "2023-07-08T21:21:45.405190",
     "status": "completed"
    },
    "tags": []
   },
   "outputs": [],
   "source": [
    "#df_train.Cabin.replace(['null', 'T', 'A', 'G', 'C', 'F', 'B', 'E', 'D'],[0,1,2,3,4,5,6,7,8],inplace=True)\n",
    "#df_test.Cabin.replace(['null', 'T', 'A', 'G', 'C', 'F', 'B', 'E', 'D'],[0,1,2,3,4,5,6,7,8],inplace=True)\n",
    "#df_train"
   ]
  },
  {
   "cell_type": "code",
   "execution_count": 17,
   "id": "06c5d503",
   "metadata": {
    "execution": {
     "iopub.execute_input": "2023-07-08T21:21:45.463460Z",
     "iopub.status.busy": "2023-07-08T21:21:45.462574Z",
     "iopub.status.idle": "2023-07-08T21:21:45.467667Z",
     "shell.execute_reply": "2023-07-08T21:21:45.466450Z"
    },
    "papermill": {
     "duration": 0.024927,
     "end_time": "2023-07-08T21:21:45.470220",
     "exception": false,
     "start_time": "2023-07-08T21:21:45.445293",
     "status": "completed"
    },
    "tags": []
   },
   "outputs": [],
   "source": [
    "#df_test.drop(columns='Cabin',inplace=True)\n",
    "#df_test.drop(columns='Cabin',inplace=True)"
   ]
  },
  {
   "cell_type": "code",
   "execution_count": 18,
   "id": "9e69f007",
   "metadata": {
    "execution": {
     "iopub.execute_input": "2023-07-08T21:21:45.504507Z",
     "iopub.status.busy": "2023-07-08T21:21:45.504040Z",
     "iopub.status.idle": "2023-07-08T21:21:45.509727Z",
     "shell.execute_reply": "2023-07-08T21:21:45.508310Z"
    },
    "papermill": {
     "duration": 0.026584,
     "end_time": "2023-07-08T21:21:45.512376",
     "exception": false,
     "start_time": "2023-07-08T21:21:45.485792",
     "status": "completed"
    },
    "tags": []
   },
   "outputs": [],
   "source": [
    "#[ i.split()[0] if len(i.split())==1  else i.split()[2] for i in df_train.Ticket  ]\n",
    "#tikcet_number=[]\n",
    "#for i in df_train.Ticket  :\n",
    "#     l = i.split()\n",
    "#     print(l)\n",
    "#     if len(l)==1 :\n",
    "#            if l[0] == \"LINE\" :\n",
    "#                tikcet_number.append( 1 )\n",
    "#            else:\n",
    "#                \n",
    "#                tikcet_number.append( int(l[0]) )\n",
    "#     elif len(l) == 2 :\n",
    "#        tikcet_number.append( int(l[1]))\n",
    "#     else: tikcet_number.append(int(l[2]))\n",
    "#tikcet_number\n",
    "#tikcet_number.replace(\"LINE\",'1',inplace=True)\n",
    "\n",
    "#df_train['tikcet_number'] = tikcet_number"
   ]
  },
  {
   "cell_type": "code",
   "execution_count": 19,
   "id": "deedaa8b",
   "metadata": {
    "execution": {
     "iopub.execute_input": "2023-07-08T21:21:45.545692Z",
     "iopub.status.busy": "2023-07-08T21:21:45.545274Z",
     "iopub.status.idle": "2023-07-08T21:21:45.555333Z",
     "shell.execute_reply": "2023-07-08T21:21:45.554059Z"
    },
    "papermill": {
     "duration": 0.029855,
     "end_time": "2023-07-08T21:21:45.558022",
     "exception": false,
     "start_time": "2023-07-08T21:21:45.528167",
     "status": "completed"
    },
    "tags": []
   },
   "outputs": [],
   "source": [
    "df_train[\"Age\"].fillna(df_train.Age.mean(),inplace=True)\n",
    "df_test[\"Age\"].fillna(df_test.Age.mean(),inplace=True)\n",
    "\n",
    "df_train['Embarked'].fillna('S',inplace=True)\n",
    "\n",
    "#df_test"
   ]
  },
  {
   "cell_type": "code",
   "execution_count": 20,
   "id": "febb7cf3",
   "metadata": {
    "execution": {
     "iopub.execute_input": "2023-07-08T21:21:45.591338Z",
     "iopub.status.busy": "2023-07-08T21:21:45.590886Z",
     "iopub.status.idle": "2023-07-08T21:21:45.595223Z",
     "shell.execute_reply": "2023-07-08T21:21:45.594218Z"
    },
    "papermill": {
     "duration": 0.023652,
     "end_time": "2023-07-08T21:21:45.597600",
     "exception": false,
     "start_time": "2023-07-08T21:21:45.573948",
     "status": "completed"
    },
    "tags": []
   },
   "outputs": [],
   "source": [
    "#l=[]\n",
    "#for i in df_train.Age :\n",
    "#    if 7<=i<=11 or 14<=i<15 or 16<=i<=28 or 34<=i<=47 or i in [47,51,54,55.5,57,59,61] or 64<=i<=74 :\n",
    "#        l.append(0)\n",
    "#    else:\n",
    "#        l.append(1)\n",
    "#df_train[\"age& surv\"] = l"
   ]
  },
  {
   "cell_type": "code",
   "execution_count": 21,
   "id": "b2ebecbb",
   "metadata": {
    "execution": {
     "iopub.execute_input": "2023-07-08T21:21:45.630320Z",
     "iopub.status.busy": "2023-07-08T21:21:45.629487Z",
     "iopub.status.idle": "2023-07-08T21:21:45.650793Z",
     "shell.execute_reply": "2023-07-08T21:21:45.649508Z"
    },
    "papermill": {
     "duration": 0.040148,
     "end_time": "2023-07-08T21:21:45.653156",
     "exception": false,
     "start_time": "2023-07-08T21:21:45.613008",
     "status": "completed"
    },
    "tags": []
   },
   "outputs": [
    {
     "data": {
      "text/plain": [
       "array(['Mr', 'Mrs', 'Miss', 'Master', 'Don', 'Rev', 'Dr', 'Mme', 'Ms',\n",
       "       'Major', 'Lady', 'Sir', 'Mlle', 'Col', 'Capt', 'the Countess',\n",
       "       'Jonkheer'], dtype=object)"
      ]
     },
     "execution_count": 21,
     "metadata": {},
     "output_type": "execute_result"
    }
   ],
   "source": [
    "df_train['Title'] = df_train.Name.str.split(',').str[1].str.split('.').str[0].str.strip()\n",
    "df_test['Title'] = df_test.Name.str.split(',').str[1].str.split('.').str[0].str.strip()\n",
    "\n",
    "df_train.Title.unique()\n"
   ]
  },
  {
   "cell_type": "code",
   "execution_count": 22,
   "id": "3e58667c",
   "metadata": {
    "execution": {
     "iopub.execute_input": "2023-07-08T21:21:45.686686Z",
     "iopub.status.busy": "2023-07-08T21:21:45.686267Z",
     "iopub.status.idle": "2023-07-08T21:21:45.696180Z",
     "shell.execute_reply": "2023-07-08T21:21:45.694981Z"
    },
    "papermill": {
     "duration": 0.029584,
     "end_time": "2023-07-08T21:21:45.698507",
     "exception": false,
     "start_time": "2023-07-08T21:21:45.668923",
     "status": "completed"
    },
    "tags": []
   },
   "outputs": [
    {
     "name": "stdout",
     "output_type": "stream",
     "text": [
      "Mr        240\n",
      "Miss       78\n",
      "Mrs        72\n",
      "Master     21\n",
      "Col         2\n",
      "Rev         2\n",
      "Ms          1\n",
      "Dr          1\n",
      "Dona        1\n",
      "Name: Title, dtype: int64\n",
      "\n",
      "Mr              517\n",
      "Miss            182\n",
      "Mrs             125\n",
      "Master           40\n",
      "Dr                7\n",
      "Rev               6\n",
      "Mlle              2\n",
      "Major             2\n",
      "Col               2\n",
      "the Countess      1\n",
      "Capt              1\n",
      "Ms                1\n",
      "Sir               1\n",
      "Lady              1\n",
      "Mme               1\n",
      "Don               1\n",
      "Jonkheer          1\n",
      "Name: Title, dtype: int64\n"
     ]
    }
   ],
   "source": [
    "print(df_test.Title.value_counts())\n",
    "print()\n",
    "print(df_train.Title.value_counts())\n"
   ]
  },
  {
   "cell_type": "code",
   "execution_count": 23,
   "id": "60d23471",
   "metadata": {
    "execution": {
     "iopub.execute_input": "2023-07-08T21:21:45.732530Z",
     "iopub.status.busy": "2023-07-08T21:21:45.732149Z",
     "iopub.status.idle": "2023-07-08T21:21:48.123983Z",
     "shell.execute_reply": "2023-07-08T21:21:48.122498Z"
    },
    "papermill": {
     "duration": 2.412194,
     "end_time": "2023-07-08T21:21:48.126653",
     "exception": false,
     "start_time": "2023-07-08T21:21:45.714459",
     "status": "completed"
    },
    "tags": []
   },
   "outputs": [
    {
     "data": {
      "image/png": "[encoded data removed]",
      "text/plain": [
       "<Figure size 1500x500 with 1 Axes>"
      ]
     },
     "metadata": {},
     "output_type": "display_data"
    }
   ],
   "source": [
    "import matplotlib.pyplot as plt\n",
    "import seaborn as sns\n",
    "\n",
    "fig= plt.figure(figsize=(15,5))\n",
    "Cabin_Letter_survival_rate = df_train.groupby('Title')['Survived'].mean().reset_index()\n",
    "\n",
    "ax= sns.barplot(x='Title', y='Survived', data=Cabin_Letter_survival_rate,  alpha= 0.9, width= 0.6)\n",
    "for p in ax.patches:\n",
    "    ax.annotate(f'{p.get_height()*100:.1f}%', (p.get_x() + p.get_width() / 2., p.get_height()),\n",
    "                ha='center', va='center', fontsize=10, color='black', xytext=(0, 8),textcoords='offset points')"
   ]
  },
  {
   "cell_type": "code",
   "execution_count": 24,
   "id": "84f4890e",
   "metadata": {
    "execution": {
     "iopub.execute_input": "2023-07-08T21:21:48.162294Z",
     "iopub.status.busy": "2023-07-08T21:21:48.161663Z",
     "iopub.status.idle": "2023-07-08T21:21:48.174030Z",
     "shell.execute_reply": "2023-07-08T21:21:48.172911Z"
    },
    "papermill": {
     "duration": 0.033097,
     "end_time": "2023-07-08T21:21:48.176429",
     "exception": false,
     "start_time": "2023-07-08T21:21:48.143332",
     "status": "completed"
    },
    "tags": []
   },
   "outputs": [],
   "source": [
    "# 0    Capt , Don  , Jonkheer , Mr     , Rev\n",
    "# 1    Col  , Dr   , Major    , Master \n",
    "# 2    Miss , Mrs\n",
    "# 3    Lady , Mlle , Mme      , Ms   , Sir  , the Countess\n",
    "\n",
    "new_title = []\n",
    "for i in df_train.Title :\n",
    "    if   i in ['Capt' , 'Don'  , 'Jonkheer' , 'Mr'     , 'Rev'] : new_title.append(0)\n",
    "    elif i in ['Col'  , 'Dr'   , 'Major'    , 'Master'] : new_title.append(1)\n",
    "    elif i in ['Miss',\"Mrs\"] : new_title.append(2)\n",
    "    else: new_title.append(3)\n",
    "df_train.Title = new_title\n",
    "\n",
    "new_title = []\n",
    "for i in df_test.Title :\n",
    "    if   i in ['Capt' , 'Dona'  , 'Jonkheer' , 'Mr'     , 'Rev'] : new_title.append(0)\n",
    "    elif i in ['Col'  , 'Dr'   , 'Major'    , 'Master'] : new_title.append(1)\n",
    "    elif i in ['Miss',\"Mrs\"] : new_title.append(2)\n",
    "    else: new_title.append(3) \n",
    "df_test.Title = new_title\n"
   ]
  },
  {
   "cell_type": "code",
   "execution_count": 25,
   "id": "3b6049e7",
   "metadata": {
    "execution": {
     "iopub.execute_input": "2023-07-08T21:21:48.210765Z",
     "iopub.status.busy": "2023-07-08T21:21:48.210352Z",
     "iopub.status.idle": "2023-07-08T21:21:48.219317Z",
     "shell.execute_reply": "2023-07-08T21:21:48.218137Z"
    },
    "papermill": {
     "duration": 0.028987,
     "end_time": "2023-07-08T21:21:48.222004",
     "exception": false,
     "start_time": "2023-07-08T21:21:48.193017",
     "status": "completed"
    },
    "tags": []
   },
   "outputs": [],
   "source": [
    "df_train.drop(columns=[\"PassengerId\",\"Name\",\"Cabin\",\"Ticket\"],inplace=True)\n",
    "ID=df_test.PassengerId\n",
    "df_test.drop(columns=[\"PassengerId\",\"Name\",\"Cabin\",\"Ticket\"],inplace=True)"
   ]
  },
  {
   "cell_type": "code",
   "execution_count": 26,
   "id": "22486fed",
   "metadata": {
    "execution": {
     "iopub.execute_input": "2023-07-08T21:21:48.258680Z",
     "iopub.status.busy": "2023-07-08T21:21:48.258245Z",
     "iopub.status.idle": "2023-07-08T21:21:48.499137Z",
     "shell.execute_reply": "2023-07-08T21:21:48.497573Z"
    },
    "papermill": {
     "duration": 0.263859,
     "end_time": "2023-07-08T21:21:48.503405",
     "exception": false,
     "start_time": "2023-07-08T21:21:48.239546",
     "status": "completed"
    },
    "tags": []
   },
   "outputs": [
    {
     "name": "stderr",
     "output_type": "stream",
     "text": [
      "/opt/conda/lib/python3.10/site-packages/sklearn/preprocessing/_encoders.py:868: FutureWarning: `sparse` was renamed to `sparse_output` in version 1.2 and will be removed in 1.4. `sparse_output` is ignored unless you leave `sparse` to its default value.\n",
      "  warnings.warn(\n"
     ]
    }
   ],
   "source": [
    "from sklearn.preprocessing import OneHotEncoder\n",
    "\n",
    "Non_OrdinalAtt = ['Sex', 'Embarked' ]\n",
    "\n",
    "#one hot encoding\n",
    "OH_encoder = OneHotEncoder(handle_unknown='ignore', sparse=False)\n",
    "OH_cols_train = pd.DataFrame(OH_encoder.fit_transform(df_train[Non_OrdinalAtt]))\n",
    "OH_cols_test = pd.DataFrame(OH_encoder.transform(df_test[Non_OrdinalAtt]))\n",
    "\n",
    "# One-hot encoding removed index; put it back\n",
    "OH_cols_train.index = df_train.index\n",
    "OH_cols_test.index = df_test.index\n",
    "\n",
    "# Remove categorical columns (will replace with one-hot encoding)\n",
    "num_X_train = df_train.drop(Non_OrdinalAtt, axis=1)\n",
    "num_X_test = df_test.drop(Non_OrdinalAtt, axis=1)\n",
    "\n",
    "# Add one-hot encoded columns to numerical features\n",
    "df_train = pd.concat([num_X_train, OH_cols_train], axis=1)\n",
    "df_test= pd.concat([num_X_test, OH_cols_test], axis=1)\n",
    "\n",
    "#df_train.drop(columns=['1','3'],inplace=True)\n",
    "#df_test.drop(columns=['1','3'],inplace=True)\n",
    "\n",
    "#print([i for i in range(3,22)])\n",
    "#df_train.drop(columns=[ 5, 6, 7, 8, 9, 10, 11, 12, 14, 15,18, 19, 20, 21],inplace=True )\n",
    "#df_test.drop(columns=[ 5, 6, 7, 8, 9, 10, 11, 12, 14, 15,18, 19, 20, 21],inplace=True )\n",
    "\n",
    "df_train.columns = df_train.columns.astype(str)\n",
    "df_test.columns = df_test.columns.astype(str)\n",
    "\n",
    "#13 16 17"
   ]
  },
  {
   "cell_type": "markdown",
   "id": "e1656882",
   "metadata": {
    "papermill": {
     "duration": 0.016225,
     "end_time": "2023-07-08T21:21:48.537287",
     "exception": false,
     "start_time": "2023-07-08T21:21:48.521062",
     "status": "completed"
    },
    "tags": []
   },
   "source": [
    "we maybe convert the Dtype of **Fare & Age** from **float** to **int**\n",
    "\n",
    "maybe will be better for the Model"
   ]
  },
  {
   "cell_type": "code",
   "execution_count": 27,
   "id": "10fb614a",
   "metadata": {
    "execution": {
     "iopub.execute_input": "2023-07-08T21:21:48.573821Z",
     "iopub.status.busy": "2023-07-08T21:21:48.573140Z",
     "iopub.status.idle": "2023-07-08T21:21:48.581359Z",
     "shell.execute_reply": "2023-07-08T21:21:48.579663Z"
    },
    "papermill": {
     "duration": 0.029281,
     "end_time": "2023-07-08T21:21:48.584159",
     "exception": false,
     "start_time": "2023-07-08T21:21:48.554878",
     "status": "completed"
    },
    "tags": []
   },
   "outputs": [],
   "source": [
    "df_test.Fare.fillna(df_test.Fare.mean(),inplace=True)\n"
   ]
  },
  {
   "cell_type": "code",
   "execution_count": 28,
   "id": "d21e9a8f",
   "metadata": {
    "execution": {
     "iopub.execute_input": "2023-07-08T21:21:48.620950Z",
     "iopub.status.busy": "2023-07-08T21:21:48.620479Z",
     "iopub.status.idle": "2023-07-08T21:21:48.646567Z",
     "shell.execute_reply": "2023-07-08T21:21:48.645135Z"
    },
    "papermill": {
     "duration": 0.04776,
     "end_time": "2023-07-08T21:21:48.649414",
     "exception": false,
     "start_time": "2023-07-08T21:21:48.601654",
     "status": "completed"
    },
    "tags": []
   },
   "outputs": [
    {
     "data": {
      "text/html": [
       "<div>\n",
       "<style scoped>\n",
       "    .dataframe tbody tr th:only-of-type {\n",
       "        vertical-align: middle;\n",
       "    }\n",
       "\n",
       "    .dataframe tbody tr th {\n",
       "        vertical-align: top;\n",
       "    }\n",
       "\n",
       "    .dataframe thead th {\n",
       "        text-align: right;\n",
       "    }\n",
       "</style>\n",
       "<table border=\"1\" class=\"dataframe\">\n",
       "  <thead>\n",
       "    <tr style=\"text-align: right;\">\n",
       "      <th></th>\n",
       "      <th>Survived</th>\n",
       "      <th>Pclass</th>\n",
       "      <th>Age</th>\n",
       "      <th>SibSp</th>\n",
       "      <th>Parch</th>\n",
       "      <th>Fare</th>\n",
       "      <th>have_Cabin</th>\n",
       "      <th>Title</th>\n",
       "      <th>0</th>\n",
       "      <th>1</th>\n",
       "      <th>2</th>\n",
       "      <th>3</th>\n",
       "      <th>4</th>\n",
       "    </tr>\n",
       "  </thead>\n",
       "  <tbody>\n",
       "    <tr>\n",
       "      <th>0</th>\n",
       "      <td>0</td>\n",
       "      <td>3</td>\n",
       "      <td>22</td>\n",
       "      <td>1</td>\n",
       "      <td>0</td>\n",
       "      <td>7</td>\n",
       "      <td>0</td>\n",
       "      <td>0</td>\n",
       "      <td>0</td>\n",
       "      <td>1</td>\n",
       "      <td>0</td>\n",
       "      <td>0</td>\n",
       "      <td>1</td>\n",
       "    </tr>\n",
       "    <tr>\n",
       "      <th>1</th>\n",
       "      <td>1</td>\n",
       "      <td>1</td>\n",
       "      <td>38</td>\n",
       "      <td>1</td>\n",
       "      <td>0</td>\n",
       "      <td>71</td>\n",
       "      <td>1</td>\n",
       "      <td>2</td>\n",
       "      <td>1</td>\n",
       "      <td>0</td>\n",
       "      <td>1</td>\n",
       "      <td>0</td>\n",
       "      <td>0</td>\n",
       "    </tr>\n",
       "    <tr>\n",
       "      <th>2</th>\n",
       "      <td>1</td>\n",
       "      <td>3</td>\n",
       "      <td>26</td>\n",
       "      <td>0</td>\n",
       "      <td>0</td>\n",
       "      <td>8</td>\n",
       "      <td>0</td>\n",
       "      <td>2</td>\n",
       "      <td>1</td>\n",
       "      <td>0</td>\n",
       "      <td>0</td>\n",
       "      <td>0</td>\n",
       "      <td>1</td>\n",
       "    </tr>\n",
       "    <tr>\n",
       "      <th>3</th>\n",
       "      <td>1</td>\n",
       "      <td>1</td>\n",
       "      <td>35</td>\n",
       "      <td>1</td>\n",
       "      <td>0</td>\n",
       "      <td>53</td>\n",
       "      <td>1</td>\n",
       "      <td>2</td>\n",
       "      <td>1</td>\n",
       "      <td>0</td>\n",
       "      <td>0</td>\n",
       "      <td>0</td>\n",
       "      <td>1</td>\n",
       "    </tr>\n",
       "    <tr>\n",
       "      <th>4</th>\n",
       "      <td>0</td>\n",
       "      <td>3</td>\n",
       "      <td>35</td>\n",
       "      <td>0</td>\n",
       "      <td>0</td>\n",
       "      <td>8</td>\n",
       "      <td>0</td>\n",
       "      <td>0</td>\n",
       "      <td>0</td>\n",
       "      <td>1</td>\n",
       "      <td>0</td>\n",
       "      <td>0</td>\n",
       "      <td>1</td>\n",
       "    </tr>\n",
       "  </tbody>\n",
       "</table>\n",
       "</div>"
      ],
      "text/plain": [
       "   Survived  Pclass  Age  SibSp  Parch  Fare  have_Cabin  Title  0  1  2  3  4\n",
       "0         0       3   22      1      0     7           0      0  0  1  0  0  1\n",
       "1         1       1   38      1      0    71           1      2  1  0  1  0  0\n",
       "2         1       3   26      0      0     8           0      2  1  0  0  0  1\n",
       "3         1       1   35      1      0    53           1      2  1  0  0  0  1\n",
       "4         0       3   35      0      0     8           0      0  0  1  0  0  1"
      ]
     },
     "execution_count": 28,
     "metadata": {},
     "output_type": "execute_result"
    }
   ],
   "source": [
    "new_train=df_train.copy()\n",
    "new_test = df_test.copy()\n",
    "new_train.Fare = [int(round(i)) for i in  new_train.Fare ]\n",
    "new_train.Age = [int(round(i)) for i in  new_train.Age ]\n",
    "\n",
    "new_test.Fare = [int(round(i)) for i in  new_test.Fare ]\n",
    "new_test.Age = [int(round(i)) for i in  new_test.Age ]\n",
    "\n",
    "#new_train.Fare , new_train.Age = new_train.Fare.astype(int) , new_train.Age.astype(int)\n",
    "new_train = new_train.astype(int)\n",
    "new_train.head()"
   ]
  },
  {
   "cell_type": "code",
   "execution_count": 29,
   "id": "2cb246c3",
   "metadata": {
    "execution": {
     "iopub.execute_input": "2023-07-08T21:21:48.687237Z",
     "iopub.status.busy": "2023-07-08T21:21:48.686823Z",
     "iopub.status.idle": "2023-07-08T21:21:49.778430Z",
     "shell.execute_reply": "2023-07-08T21:21:49.777275Z"
    },
    "papermill": {
     "duration": 1.114528,
     "end_time": "2023-07-08T21:21:49.782233",
     "exception": false,
     "start_time": "2023-07-08T21:21:48.667705",
     "status": "completed"
    },
    "tags": []
   },
   "outputs": [
    {
     "data": {
      "text/plain": [
       "<Axes: >"
      ]
     },
     "execution_count": 29,
     "metadata": {},
     "output_type": "execute_result"
    },
    {
     "data": {
      "image/png": "[encoded data removed]",
      "text/plain": [
       "<Figure size 1200x1000 with 2 Axes>"
      ]
     },
     "metadata": {},
     "output_type": "display_data"
    }
   ],
   "source": [
    "#correlation matrix\n",
    "import matplotlib.pyplot as plt\n",
    "import seaborn as sns\n",
    "\n",
    "cmap = sns.diverging_palette(205, 133, 63,as_cmap=True)\n",
    "corrmat= df_train.corr()\n",
    "f, ax = plt.subplots(figsize=(12,10))\n",
    "sns.heatmap(corrmat,cmap=cmap,annot=True, )"
   ]
  },
  {
   "cell_type": "code",
   "execution_count": 30,
   "id": "52a4eb11",
   "metadata": {
    "execution": {
     "iopub.execute_input": "2023-07-08T21:21:49.825300Z",
     "iopub.status.busy": "2023-07-08T21:21:49.824859Z",
     "iopub.status.idle": "2023-07-08T21:21:49.830351Z",
     "shell.execute_reply": "2023-07-08T21:21:49.829238Z"
    },
    "papermill": {
     "duration": 0.030532,
     "end_time": "2023-07-08T21:21:49.832567",
     "exception": false,
     "start_time": "2023-07-08T21:21:49.802035",
     "status": "completed"
    },
    "tags": []
   },
   "outputs": [],
   "source": [
    "#df_train.drop(columns=['1','3'],inplace=True)\n",
    "#df_test.drop(columns=['1','3'],inplace=True)\n",
    "\n",
    "#df_train.drop(columns=['Age','SibSp','Parch'],inplace=True)\n",
    "#df_test.drop(columns=['Age','SibSp','Parch'],inplace=True)\n",
    "\n",
    "#df_train.drop(columns=['have_Cabin'],inplace=True)\n",
    "#df_test.drop(columns=['have_Cabin'],inplace=True)"
   ]
  },
  {
   "cell_type": "code",
   "execution_count": 31,
   "id": "8050054a",
   "metadata": {
    "execution": {
     "iopub.execute_input": "2023-07-08T21:21:49.872798Z",
     "iopub.status.busy": "2023-07-08T21:21:49.872390Z",
     "iopub.status.idle": "2023-07-08T21:21:49.887398Z",
     "shell.execute_reply": "2023-07-08T21:21:49.886228Z"
    },
    "papermill": {
     "duration": 0.03837,
     "end_time": "2023-07-08T21:21:49.890104",
     "exception": false,
     "start_time": "2023-07-08T21:21:49.851734",
     "status": "completed"
    },
    "tags": []
   },
   "outputs": [
    {
     "name": "stdout",
     "output_type": "stream",
     "text": [
      "<class 'pandas.core.frame.DataFrame'>\n",
      "RangeIndex: 891 entries, 0 to 890\n",
      "Data columns (total 13 columns):\n",
      " #   Column      Non-Null Count  Dtype  \n",
      "---  ------      --------------  -----  \n",
      " 0   Survived    891 non-null    int64  \n",
      " 1   Pclass      891 non-null    int64  \n",
      " 2   Age         891 non-null    float64\n",
      " 3   SibSp       891 non-null    int64  \n",
      " 4   Parch       891 non-null    int64  \n",
      " 5   Fare        891 non-null    float64\n",
      " 6   have_Cabin  891 non-null    int64  \n",
      " 7   Title       891 non-null    int64  \n",
      " 8   0           891 non-null    float64\n",
      " 9   1           891 non-null    float64\n",
      " 10  2           891 non-null    float64\n",
      " 11  3           891 non-null    float64\n",
      " 12  4           891 non-null    float64\n",
      "dtypes: float64(7), int64(6)\n",
      "memory usage: 90.6 KB\n"
     ]
    }
   ],
   "source": [
    "df_train.info()"
   ]
  },
  {
   "cell_type": "markdown",
   "id": "cc43d97c",
   "metadata": {
    "papermill": {
     "duration": 0.018841,
     "end_time": "2023-07-08T21:21:49.927944",
     "exception": false,
     "start_time": "2023-07-08T21:21:49.909103",
     "status": "completed"
    },
    "tags": []
   },
   "source": [
    "# Modeling"
   ]
  },
  {
   "cell_type": "code",
   "execution_count": 32,
   "id": "9c25b6d0",
   "metadata": {
    "execution": {
     "iopub.execute_input": "2023-07-08T21:21:49.969103Z",
     "iopub.status.busy": "2023-07-08T21:21:49.968661Z",
     "iopub.status.idle": "2023-07-08T21:21:50.802885Z",
     "shell.execute_reply": "2023-07-08T21:21:50.801507Z"
    },
    "papermill": {
     "duration": 0.859055,
     "end_time": "2023-07-08T21:21:50.806224",
     "exception": false,
     "start_time": "2023-07-08T21:21:49.947169",
     "status": "completed"
    },
    "tags": []
   },
   "outputs": [],
   "source": [
    "from sklearn.tree import DecisionTreeClassifier\n",
    "from sklearn.ensemble import RandomForestClassifier\n",
    "from sklearn.naive_bayes import GaussianNB\n",
    "from sklearn.neighbors import KNeighborsClassifier\n",
    "from sklearn.svm import SVC\n",
    "from xgboost import XGBClassifier\n",
    "# svm, knn, naive, RandomForest, Tree .\n",
    "\n",
    "from sklearn.metrics import accuracy_score \n",
    "from sklearn.model_selection import train_test_split , cross_val_score , StratifiedKFold"
   ]
  },
  {
   "cell_type": "code",
   "execution_count": 33,
   "id": "cefbeb72",
   "metadata": {
    "execution": {
     "iopub.execute_input": "2023-07-08T21:21:50.849154Z",
     "iopub.status.busy": "2023-07-08T21:21:50.848653Z",
     "iopub.status.idle": "2023-07-08T21:21:53.834578Z",
     "shell.execute_reply": "2023-07-08T21:21:53.832710Z"
    },
    "papermill": {
     "duration": 3.012291,
     "end_time": "2023-07-08T21:21:53.838251",
     "exception": false,
     "start_time": "2023-07-08T21:21:50.825960",
     "status": "completed"
    },
    "tags": []
   },
   "outputs": [
    {
     "name": "stdout",
     "output_type": "stream",
     "text": [
      "the accurcy of DecisionTreeClassifier(max_depth=10) = 0.8715083798882681\n",
      "Accuracy scores: [0.83798883 0.79775281 0.76404494 0.83146067 0.78089888]\n",
      "Mean accuracy: 0.8024292260372858\n",
      "\n",
      "the accurcy of RandomForestClassifier(max_depth=8, random_state=0) = 0.8659217877094972\n",
      "Accuracy scores: [0.8547486  0.84269663 0.8258427  0.84269663 0.82022472]\n",
      "Mean accuracy: 0.8372418555018518\n",
      "\n",
      "the accurcy of GaussianNB() = 0.7988826815642458\n",
      "Accuracy scores: [0.79329609 0.7752809  0.76966292 0.78651685 0.80898876]\n",
      "Mean accuracy: 0.7867491055175444\n",
      "\n",
      "the accurcy of KNeighborsClassifier(n_neighbors=7) = 0.7206703910614525\n",
      "Accuracy scores: [0.73743017 0.7752809  0.75842697 0.70786517 0.75280899]\n",
      "Mean accuracy: 0.7463624380139351\n",
      "\n",
      "the accurcy of SVC() = 0.6480446927374302\n",
      "Accuracy scores: [0.69832402 0.68539326 0.66853933 0.69101124 0.66853933]\n",
      "Mean accuracy: 0.6823614336827569\n",
      "\n",
      "the accurcy of XGBClassifier(base_score=None, booster=None, callbacks=None,\n",
      "              colsample_bylevel=None, colsample_bynode=None,\n",
      "              colsample_bytree=None, early_stopping_rounds=None,\n",
      "              enable_categorical=False, eval_metric=None, feature_types=None,\n",
      "              gamma=None, gpu_id=None, grow_policy=None, importance_type=None,\n",
      "              interaction_constraints=None, learning_rate=None, max_bin=None,\n",
      "              max_cat_threshold=None, max_cat_to_onehot=None,\n",
      "              max_delta_step=None, max_depth=None, max_leaves=None,\n",
      "              min_child_weight=None, missing=nan, monotone_constraints=None,\n",
      "              n_estimators=100, n_jobs=None, num_parallel_tree=None,\n",
      "              predictor=None, random_state=None, ...) = 0.8435754189944135\n",
      "Accuracy scores: [0.86592179 0.83707865 0.78089888 0.80337079 0.83146067]\n",
      "Mean accuracy: 0.8237461552947085\n",
      "\n"
     ]
    }
   ],
   "source": [
    "#build model\n",
    "DT = DecisionTreeClassifier(max_depth=10)\n",
    "RF = RandomForestClassifier(n_estimators=100,max_depth=8,random_state=0)\n",
    "NB = GaussianNB()\n",
    "KNN = KNeighborsClassifier(7)\n",
    "SVM = SVC()\n",
    "XGB = XGBClassifier()\n",
    "l=[DT,RF,NB,KNN,SVM,XGB]\n",
    "\n",
    "#split data to train & test\n",
    "X=df_train.drop(columns=\"Survived\")\n",
    "y=df_train.Survived\n",
    "Tx,Vx,Ty,Vy = train_test_split(X,y,test_size=.2,random_state=46)\n",
    "\n",
    "#fitting the model\n",
    "for i in l :\n",
    "    i.fit(Tx,Ty)\n",
    "\n",
    "#predict & calculate Erorr\n",
    "for i in l :\n",
    "    Py= i.predict(Vx)\n",
    "    print(f'the accurcy of {i} = {accuracy_score(Vy,Py)}')\n",
    "    model =i\n",
    "\n",
    "    # Choose a cross-validation strategy\n",
    "    cv = StratifiedKFold(n_splits=5, shuffle=True, random_state=42)\n",
    "\n",
    "    # Perform cross-validation\n",
    "    scores = cross_val_score(model, X, y, cv=cv, scoring='accuracy')\n",
    "\n",
    "    print(\"Accuracy scores:\", scores)\n",
    "    print(\"Mean accuracy:\", scores.mean())\n",
    "    print()"
   ]
  },
  {
   "cell_type": "code",
   "execution_count": 34,
   "id": "860523f7",
   "metadata": {
    "execution": {
     "iopub.execute_input": "2023-07-08T21:21:53.881709Z",
     "iopub.status.busy": "2023-07-08T21:21:53.881291Z",
     "iopub.status.idle": "2023-07-08T21:21:56.852634Z",
     "shell.execute_reply": "2023-07-08T21:21:56.851712Z"
    },
    "papermill": {
     "duration": 2.995855,
     "end_time": "2023-07-08T21:21:56.855583",
     "exception": false,
     "start_time": "2023-07-08T21:21:53.859728",
     "status": "completed"
    },
    "tags": []
   },
   "outputs": [
    {
     "name": "stdout",
     "output_type": "stream",
     "text": [
      "the accurcy of DecisionTreeClassifier() = 0.8547486033519553\n",
      "Accuracy scores: [0.82681564 0.78651685 0.7752809  0.79213483 0.76404494]\n",
      "Mean accuracy: 0.7889586341095975\n",
      "\n",
      "the accurcy of RandomForestClassifier(max_depth=8, random_state=0) = 0.8603351955307262\n",
      "Accuracy scores: [0.84916201 0.84269663 0.81460674 0.83146067 0.8258427 ]\n",
      "Mean accuracy: 0.8327537505492437\n",
      "\n",
      "the accurcy of GaussianNB() = 0.7988826815642458\n",
      "Accuracy scores: [0.79329609 0.7752809  0.76966292 0.78651685 0.80898876]\n",
      "Mean accuracy: 0.7867491055175444\n",
      "\n",
      "the accurcy of KNeighborsClassifier(n_neighbors=7) = 0.7206703910614525\n",
      "Accuracy scores: [0.76536313 0.78651685 0.74157303 0.70786517 0.76404494]\n",
      "Mean accuracy: 0.753072625698324\n",
      "\n",
      "the accurcy of SVC() = 0.6424581005586593\n",
      "Accuracy scores: [0.69832402 0.68539326 0.66853933 0.69101124 0.66853933]\n",
      "Mean accuracy: 0.6823614336827569\n",
      "\n",
      "the accurcy of XGBClassifier(base_score=None, booster=None, callbacks=None,\n",
      "              colsample_bylevel=None, colsample_bynode=None,\n",
      "              colsample_bytree=None, early_stopping_rounds=None,\n",
      "              enable_categorical=False, eval_metric=None, feature_types=None,\n",
      "              gamma=None, gpu_id=None, grow_policy=None, importance_type=None,\n",
      "              interaction_constraints=None, learning_rate=None, max_bin=None,\n",
      "              max_cat_threshold=None, max_cat_to_onehot=None,\n",
      "              max_delta_step=None, max_depth=None, max_leaves=None,\n",
      "              min_child_weight=None, missing=nan, monotone_constraints=None,\n",
      "              n_estimators=100, n_jobs=None, num_parallel_tree=None,\n",
      "              predictor=None, random_state=None, ...) = 0.8659217877094972\n",
      "Accuracy scores: [0.86592179 0.8258427  0.76404494 0.81460674 0.8258427 ]\n",
      "Mean accuracy: 0.8192517732722365\n",
      "\n"
     ]
    }
   ],
   "source": [
    "DT = DecisionTreeClassifier()\n",
    "RF = RandomForestClassifier(n_estimators=100,max_depth=8,random_state=0)\n",
    "NB = GaussianNB()\n",
    "KNN = KNeighborsClassifier(7)\n",
    "SVM = SVC()\n",
    "XGB = XGBClassifier()\n",
    "l=[DT,RF,NB,KNN,SVM,XGB]\n",
    "\n",
    "#split data to train & test\n",
    "X=new_train.drop(columns=\"Survived\")\n",
    "y=new_train.Survived\n",
    "Tx,Vx,Ty,Vy = train_test_split(X,y,test_size=.2,random_state=46)\n",
    "\n",
    "#fitting the model\n",
    "for i in l :\n",
    "    i.fit(Tx,Ty)\n",
    "\n",
    "#predict & calculate Erorr\n",
    "for i in l :\n",
    "    Py= i.predict(Vx)\n",
    "    print(f'the accurcy of {i} = {accuracy_score(Vy,Py)}')\n",
    "    \n",
    "    model =i\n",
    "\n",
    "    # Choose a cross-validation strategy\n",
    "    cv = StratifiedKFold(n_splits=5, shuffle=True, random_state=42)\n",
    "\n",
    "    # Perform cross-validation\n",
    "    scores = cross_val_score(model, X, y, cv=cv, scoring='accuracy')\n",
    "\n",
    "    print(\"Accuracy scores:\", scores)\n",
    "    print(\"Mean accuracy:\", scores.mean())\n",
    "    print()"
   ]
  },
  {
   "cell_type": "code",
   "execution_count": 35,
   "id": "8afe7b45",
   "metadata": {
    "execution": {
     "iopub.execute_input": "2023-07-08T21:21:56.898728Z",
     "iopub.status.busy": "2023-07-08T21:21:56.898293Z",
     "iopub.status.idle": "2023-07-08T21:21:57.221822Z",
     "shell.execute_reply": "2023-07-08T21:21:57.220642Z"
    },
    "papermill": {
     "duration": 0.34815,
     "end_time": "2023-07-08T21:21:57.224887",
     "exception": false,
     "start_time": "2023-07-08T21:21:56.876737",
     "status": "completed"
    },
    "tags": []
   },
   "outputs": [],
   "source": [
    "RF = RandomForestClassifier(n_estimators=100,max_depth=8,random_state=0)\n",
    "X=df_train.drop(columns=\"Survived\")\n",
    "y=df_train.Survived\n",
    "RF.fit(X,y)\n",
    "Py = RF.predict(df_test)\n",
    "output = pd.DataFrame({'PassengerId': ID, 'Survived': Py})\n",
    "output.to_csv('submission.csv', index=False)"
   ]
  }
 ],
 "metadata": {
  "kernelspec": {
   "display_name": "Python 3",
   "language": "python",
   "name": "python3"
  },
  "language_info": {
   "codemirror_mode": {
    "name": "ipython",
    "version": 3
   },
   "file_extension": ".py",
   "mimetype": "text/x-python",
   "name": "python",
   "nbconvert_exporter": "python",
   "pygments_lexer": "ipython3",
   "version": "3.10.10"
  },
  "papermill": {
   "default_parameters": {},
   "duration": 27.824285,
   "end_time": "2023-07-08T21:21:58.470665",
   "environment_variables": {},
   "exception": null,
   "input_path": "__notebook__.ipynb",
   "output_path": "__notebook__.ipynb",
   "parameters": {},
   "start_time": "2023-07-08T21:21:30.646380",
   "version": "2.4.0"
  }
 },
 "nbformat": 4,
 "nbformat_minor": 5
}
